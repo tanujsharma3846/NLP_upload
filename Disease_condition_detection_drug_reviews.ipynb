{
 "cells": [
  {
   "cell_type": "markdown",
   "metadata": {},
   "source": [
    "## Disease Condition prediction based on drug reviews"
   ]
  },
  {
   "cell_type": "markdown",
   "metadata": {},
   "source": [
    "In this project, we will classify the condition of patients using the reviews of the drugs given by patients using drug reviews dataset available in [UCI ML Repository](https://archive.ics.uci.edu/ml/datasets/Drug+Review+Dataset+%28Drugs.com%29)."
   ]
  },
  {
   "cell_type": "markdown",
   "metadata": {},
   "source": [
    "## Importing libraries"
   ]
  },
  {
   "cell_type": "code",
   "execution_count": 1,
   "metadata": {},
   "outputs": [],
   "source": [
    "import pandas as pd # data preprocessing\n",
    "import itertools # confusion matrix\n",
    "import string\n",
    "import numpy as np\n",
    "import seaborn as sns\n",
    "from sklearn.feature_extraction.text import CountVectorizer, TfidfVectorizer\n",
    "from sklearn.model_selection import train_test_split\n",
    "from sklearn.linear_model import PassiveAggressiveClassifier\n",
    "from sklearn.naive_bayes import MultinomialNB\n",
    "from sklearn import metrics\n",
    "import matplotlib.pyplot as plt\n",
    "%matplotlib inline\n",
    "# To show all the rows of pandas dataframe\n",
    "pd.set_option('display.max_rows', None)"
   ]
  },
  {
   "cell_type": "code",
   "execution_count": 2,
   "metadata": {},
   "outputs": [],
   "source": [
    "df=pd.read_csv('drugsComTrain_raw.tsv', sep='\\t')"
   ]
  },
  {
   "cell_type": "code",
   "execution_count": 3,
   "metadata": {},
   "outputs": [
    {
     "data": {
      "text/html": [
       "<div>\n",
       "<style scoped>\n",
       "    .dataframe tbody tr th:only-of-type {\n",
       "        vertical-align: middle;\n",
       "    }\n",
       "\n",
       "    .dataframe tbody tr th {\n",
       "        vertical-align: top;\n",
       "    }\n",
       "\n",
       "    .dataframe thead th {\n",
       "        text-align: right;\n",
       "    }\n",
       "</style>\n",
       "<table border=\"1\" class=\"dataframe\">\n",
       "  <thead>\n",
       "    <tr style=\"text-align: right;\">\n",
       "      <th></th>\n",
       "      <th>Unnamed: 0</th>\n",
       "      <th>drugName</th>\n",
       "      <th>condition</th>\n",
       "      <th>review</th>\n",
       "      <th>rating</th>\n",
       "      <th>date</th>\n",
       "      <th>usefulCount</th>\n",
       "    </tr>\n",
       "  </thead>\n",
       "  <tbody>\n",
       "    <tr>\n",
       "      <th>0</th>\n",
       "      <td>206461</td>\n",
       "      <td>Valsartan</td>\n",
       "      <td>Left Ventricular Dysfunction</td>\n",
       "      <td>\"It has no side effect, I take it in combinati...</td>\n",
       "      <td>9.0</td>\n",
       "      <td>May 20, 2012</td>\n",
       "      <td>27</td>\n",
       "    </tr>\n",
       "    <tr>\n",
       "      <th>1</th>\n",
       "      <td>95260</td>\n",
       "      <td>Guanfacine</td>\n",
       "      <td>ADHD</td>\n",
       "      <td>\"My son is halfway through his fourth week of ...</td>\n",
       "      <td>8.0</td>\n",
       "      <td>April 27, 2010</td>\n",
       "      <td>192</td>\n",
       "    </tr>\n",
       "    <tr>\n",
       "      <th>2</th>\n",
       "      <td>92703</td>\n",
       "      <td>Lybrel</td>\n",
       "      <td>Birth Control</td>\n",
       "      <td>\"I used to take another oral contraceptive, wh...</td>\n",
       "      <td>5.0</td>\n",
       "      <td>December 14, 2009</td>\n",
       "      <td>17</td>\n",
       "    </tr>\n",
       "    <tr>\n",
       "      <th>3</th>\n",
       "      <td>138000</td>\n",
       "      <td>Ortho Evra</td>\n",
       "      <td>Birth Control</td>\n",
       "      <td>\"This is my first time using any form of birth...</td>\n",
       "      <td>8.0</td>\n",
       "      <td>November 3, 2015</td>\n",
       "      <td>10</td>\n",
       "    </tr>\n",
       "    <tr>\n",
       "      <th>4</th>\n",
       "      <td>35696</td>\n",
       "      <td>Buprenorphine / naloxone</td>\n",
       "      <td>Opiate Dependence</td>\n",
       "      <td>\"Suboxone has completely turned my life around...</td>\n",
       "      <td>9.0</td>\n",
       "      <td>November 27, 2016</td>\n",
       "      <td>37</td>\n",
       "    </tr>\n",
       "  </tbody>\n",
       "</table>\n",
       "</div>"
      ],
      "text/plain": [
       "   Unnamed: 0                  drugName                     condition  \\\n",
       "0      206461                 Valsartan  Left Ventricular Dysfunction   \n",
       "1       95260                Guanfacine                          ADHD   \n",
       "2       92703                    Lybrel                 Birth Control   \n",
       "3      138000                Ortho Evra                 Birth Control   \n",
       "4       35696  Buprenorphine / naloxone             Opiate Dependence   \n",
       "\n",
       "                                              review  rating  \\\n",
       "0  \"It has no side effect, I take it in combinati...     9.0   \n",
       "1  \"My son is halfway through his fourth week of ...     8.0   \n",
       "2  \"I used to take another oral contraceptive, wh...     5.0   \n",
       "3  \"This is my first time using any form of birth...     8.0   \n",
       "4  \"Suboxone has completely turned my life around...     9.0   \n",
       "\n",
       "                date  usefulCount  \n",
       "0       May 20, 2012           27  \n",
       "1     April 27, 2010          192  \n",
       "2  December 14, 2009           17  \n",
       "3   November 3, 2015           10  \n",
       "4  November 27, 2016           37  "
      ]
     },
     "execution_count": 3,
     "metadata": {},
     "output_type": "execute_result"
    }
   ],
   "source": [
    "df.head()"
   ]
  },
  {
   "cell_type": "code",
   "execution_count": 4,
   "metadata": {},
   "outputs": [
    {
     "data": {
      "text/plain": [
       "Birth Control                                                          28788\n",
       "Depression                                                              9069\n",
       "Pain                                                                    6145\n",
       "Anxiety                                                                 5904\n",
       "Acne                                                                    5588\n",
       "Bipolar Disorde                                                         4224\n",
       "Insomnia                                                                3673\n",
       "Weight Loss                                                             3609\n",
       "Obesity                                                                 3568\n",
       "ADHD                                                                    3383\n",
       "Diabetes, Type 2                                                        2554\n",
       "Emergency Contraception                                                 2463\n",
       "High Blood Pressure                                                     2321\n",
       "Vaginal Yeast Infection                                                 2274\n",
       "Abnormal Uterine Bleeding                                               2096\n",
       "Bowel Preparation                                                       1859\n",
       "ibromyalgia                                                             1791\n",
       "Smoking Cessation                                                       1780\n",
       "Migraine                                                                1694\n",
       "Anxiety and Stress                                                      1663\n",
       "Major Depressive Disorde                                                1607\n",
       "Constipation                                                            1595\n",
       "Panic Disorde                                                           1463\n",
       "Chronic Pain                                                            1455\n",
       "Migraine Prevention                                                     1413\n",
       "Urinary Tract Infection                                                 1316\n",
       "Muscle Spasm                                                            1244\n",
       "Osteoarthritis                                                          1239\n",
       "Generalized Anxiety Disorde                                             1164\n",
       "Erectile Dysfunction                                                    1086\n",
       "Opiate Dependence                                                       1079\n",
       "Irritable Bowel Syndrome                                                1014\n",
       "Rheumatoid Arthritis                                                     995\n",
       "Allergic Rhinitis                                                        973\n",
       "Bacterial Infection                                                      945\n",
       "Cough                                                                    927\n",
       "Sinusitis                                                                835\n",
       "Nausea/Vomiting                                                          747\n",
       "GERD                                                                     722\n",
       "Multiple Sclerosis                                                       698\n",
       "Overactive Bladde                                                        683\n",
       "Hyperhidrosis                                                            677\n",
       "Hepatitis C                                                              656\n",
       "Back Pain                                                                616\n",
       "HIV Infection                                                            615\n",
       "High Cholesterol                                                         611\n",
       "Psoriasis                                                                598\n",
       "Schizophrenia                                                            594\n",
       "Constipation, Chronic                                                    591\n",
       "Obsessive Compulsive Disorde                                             579\n",
       "Restless Legs Syndrome                                                   565\n",
       "Benign Prostatic Hyperplasia                                             561\n",
       "Endometriosis                                                            558\n",
       "Bronchitis                                                               550\n",
       "Bacterial Vaginitis                                                      524\n",
       "Rosacea                                                                  519\n",
       "Seizures                                                                 508\n",
       "Narcolepsy                                                               506\n",
       "Hypogonadism, Male                                                       502\n",
       "Asthma, Maintenance                                                      501\n",
       "Headache                                                                 473\n",
       "Underactive Thyroid                                                      449\n",
       "Not Listed / Othe                                                        439\n",
       "Schizoaffective Disorde                                                  396\n",
       "Onychomycosis, Toenail                                                   396\n",
       "Bladder Infection                                                        395\n",
       "Social Anxiety Disorde                                                   389\n",
       "Alcohol Dependence                                                       388\n",
       "Herpes Simplex                                                           386\n",
       "Osteoporosis                                                             372\n",
       "Cold Sores                                                               367\n",
       "Epilepsy                                                                 358\n",
       "Cough and Nasal Congestion                                               356\n",
       "Menstrual Disorders                                                      350\n",
       "Influenza                                                                350\n",
       "Plaque Psoriasis                                                         332\n",
       "Opiate Withdrawal                                                        327\n",
       "Psoriatic Arthritis                                                      324\n",
       "Post Traumatic Stress Disorde                                            314\n",
       "Postmenopausal Symptoms                                                  313\n",
       "Polycystic Ovary Syndrome                                                309\n",
       "Inflammatory Conditions                                                  303\n",
       "Premenstrual Dysphoric Disorde                                           298\n",
       "Nasal Congestion                                                         290\n",
       "Pneumonia                                                                276\n",
       "Chlamydia Infection                                                      273\n",
       "Atrial Fibrillation                                                      272\n",
       "Breast Cance                                                             272\n",
       "Urticaria                                                                264\n",
       "Helicobacter Pylori Infection                                            260\n",
       "Hot Flashes                                                              255\n",
       "Neuropathic Pain                                                         253\n",
       "Anesthesia                                                               252\n",
       "COPD, Maintenance                                                        250\n",
       "Ulcerative Colitis                                                       238\n",
       "Constipation, Drug Induced                                               228\n",
       "Skin or Soft Tissue Infection                                            225\n",
       "Asthma                                                                   225\n",
       "Alcohol Withdrawal                                                       217\n",
       "Ankylosing Spondylitis                                                   209\n",
       "Motion Sickness                                                          203\n",
       "Gout, Acute                                                              196\n",
       "Crohn's Disease, Maintenance                                             192\n",
       "mance Anxiety                                                            187\n",
       "Seizure Prevention                                                       183\n",
       "Atrophic Vaginitis                                                       182\n",
       "Allergies                                                                179\n",
       "Interstitial Cystitis                                                    178\n",
       "Peripheral Neuropathy                                                    176\n",
       "Diabetic Peripheral Neuropathy                                           175\n",
       "Hashimoto's disease                                                      173\n",
       "Upper Respiratory Tract Infection                                        171\n",
       "Crohn's Disease                                                          168\n",
       "Urinary Incontinence                                                     168\n",
       "Herpes Simplex, Suppression                                              166\n",
       "Cluster Headaches                                                        166\n",
       "Eczema                                                                   166\n",
       "Sedation                                                                 165\n",
       "Atopic Dermatitis                                                        162\n",
       "Trigeminal Neuralgia                                                     162\n",
       "Prevention of Thromboembolism in Atrial Fibrillation                     160\n",
       "COPD                                                                     159\n",
       "Ovarian Cysts                                                            152\n",
       "Otitis Media                                                             152\n",
       "Hypothyroidism, After Thyroid Removal                                    151\n",
       "Borderline Personality Disorde                                           151\n",
       "Dry Eye Disease                                                          147\n",
       "Bacterial Skin Infection                                                 146\n",
       "Diverticulitis                                                           142\n",
       "Diabetes, Type 1                                                         140\n",
       "Period Pain                                                              139\n",
       "Asthma, acute                                                            135\n",
       "Ulcerative Colitis, Active                                               132\n",
       "Sciatica                                                                 124\n",
       "Prostate Cance                                                           123\n",
       "Nausea/Vomiting of Pregnancy                                             123\n",
       "Parkinson's Disease                                                      120\n",
       "Kidney Infections                                                        117\n",
       "Cold Symptoms                                                            116\n",
       "Diarrhea                                                                 110\n",
       "Strep Throat                                                             109\n",
       "Tonsillitis/Pharyngitis                                                  106\n",
       "Keratosis                                                                106\n",
       "Gout                                                                     105\n",
       "0</span> users found this comment helpful.                               104\n",
       "Breast Cancer, Metastatic                                                102\n",
       "Dietary Supplementation                                                  102\n",
       "Human Papilloma Virus                                                    102\n",
       "Vertig                                                                   101\n",
       "Urinary Tract Stones                                                     101\n",
       "Arrhythmia                                                                97\n",
       "Renal Cell Carcinoma                                                      95\n",
       "Systemic Lupus Erythematosus                                              95\n",
       "Non-Small Cell Lung Cance                                                 94\n",
       "Neuralgia                                                                 94\n",
       "Angina                                                                    93\n",
       "Edema                                                                     93\n",
       "Dermatitis                                                                93\n",
       "Amenorrhea                                                                92\n",
       "Prostatitis                                                               91\n",
       "Autism                                                                    90\n",
       "Dental Abscess                                                            90\n",
       "Chronic Myelogenous Leukemia                                              89\n",
       "Alopecia                                                                  89\n",
       "Benign Essential Trem                                                     89\n",
       "Hemorrhoids                                                               88\n",
       "Heart Failure                                                             88\n",
       "Chronic Fatigue Syndrome                                                  88\n",
       "Muscle Pain                                                               88\n",
       "Supraventricular Tachycardia                                              86\n",
       "Sinus Symptoms                                                            86\n",
       "Deep Vein Thrombosis                                                      86\n",
       "2</span> users found this comment helpful.                                85\n",
       "Allergic Reactions                                                        85\n",
       "Alzheimer's Disease                                                       85\n",
       "Rhinitis                                                                  84\n",
       "3</span> users found this comment helpful.                                84\n",
       "Postpartum Depression                                                     84\n",
       "1</span> users found this comment helpful.                                83\n",
       "Obstructive Sleep Apnea/Hypopnea Syndrome                                 80\n",
       "Anorexia                                                                  80\n",
       "Menorrhagia                                                               80\n",
       "moterol)                                                                  79\n",
       "Nausea/Vomiting, Chemotherapy Induced                                     79\n",
       "Dry Skin                                                                  78\n",
       "Premature Lab                                                             76\n",
       "Vitamin/Mineral Supplementation during Pregnancy/Lactation                74\n",
       "Barrett's Esophagus                                                       74\n",
       "Hirsutism                                                                 74\n",
       "Dysuria                                                                   73\n",
       "Psychosis                                                                 73\n",
       "Conjunctivitis, Allergic                                                  73\n",
       "Hypertriglyceridemia                                                      73\n",
       "Melasma                                                                   72\n",
       "Stomach Ulce                                                              72\n",
       "Binge Eating Disorde                                                      72\n",
       "Postherpetic Neuralgia                                                    71\n",
       "Trichomoniasis                                                            70\n",
       "Erosive Esophagitis                                                       70\n",
       "Hypersomnia                                                               70\n",
       "Sexual Dysfunction, SSRI Induced                                          69\n",
       "Pulmonary Embolism                                                        68\n",
       "Tourette's Syndrome                                                       68\n",
       "Seasonal Allergic Conjunctivitis                                          68\n",
       "Prevention of Bladder infection                                           68\n",
       "Head Lice                                                                 67\n",
       "4</span> users found this comment helpful.                                66\n",
       "emale Infertility                                                         65\n",
       "Pulmonary Hypertension                                                    64\n",
       "Conjunctivitis, Bacterial                                                 62\n",
       "High Cholesterol, Familial Heterozygous                                   62\n",
       "Pseudotumor Cerebri                                                       62\n",
       "Chronic Idiopathic Constipation                                           60\n",
       "Shift Work Sleep Disorde                                                  60\n",
       "Light Sedation                                                            60\n",
       "Eye Redness                                                               59\n",
       "Bulimia                                                                   58\n",
       "Glaucoma, Open Angle                                                      57\n",
       "Cervical Dystonia                                                         56\n",
       "Reflex Sympathetic Dystrophy Syndrome                                     55\n",
       "Heart Attack                                                              55\n",
       "Acute Coronary Syndrome                                                   54\n",
       "Hyperprolactinemia                                                        54\n",
       "Keratoconjunctivitis Sicca                                                54\n",
       "Basal Cell Carcinoma                                                      54\n",
       "Organ Transplant, Rejection Prophylaxis                                   53\n",
       "atigue                                                                    53\n",
       "Skin and Structure Infection                                              53\n",
       "Mania                                                                     53\n",
       "Perimenopausal Symptoms                                                   50\n",
       "Sjogren's Syndrome                                                        50\n",
       "Raynaud's Syndrome                                                        50\n",
       "Uterine Fibroids                                                          49\n",
       "Indigestion                                                               48\n",
       "Androgenetic Alopecia                                                     48\n",
       "Burns, External                                                           47\n",
       "Diarrhea, Chronic                                                         47\n",
       "Crohn's Disease, Acute                                                    47\n",
       "6</span> users found this comment helpful.                                46\n",
       "Ulcerative Colitis, Maintenance                                           45\n",
       "Malaria Prevention                                                        45\n",
       "min)                                                                      45\n",
       "Opioid-Induced Constipation                                               44\n",
       "Pruritus                                                                  44\n",
       "Neutropenia Associated with Chemotherapy                                  43\n",
       "Tendonitis                                                                43\n",
       "Periodic Limb Movement Disorde                                            43\n",
       "5</span> users found this comment helpful.                                40\n",
       "Myasthenia Gravis                                                         40\n",
       "Agitated State                                                            38\n",
       "Paranoid Disorde                                                          38\n",
       "Postoperative Pain                                                        38\n",
       "Gastroenteritis                                                           38\n",
       "Dermatological Disorders                                                  38\n",
       "Gastroparesis                                                             37\n",
       "Clostridial Infection                                                     37\n",
       "7</span> users found this comment helpful.                                37\n",
       "Colorectal Cance                                                          37\n",
       "Vulvodynia                                                                35\n",
       "Lyme Disease                                                              35\n",
       "Constipation, Acute                                                       35\n",
       "Primary Immunodeficiency Syndrome                                         35\n",
       "Gouty Arthritis                                                           34\n",
       "Iron Deficiency Anemia                                                    34\n",
       "Eye Redness/Itching                                                       34\n",
       "Glaucoma                                                                  34\n",
       "Oophorectomy                                                              34\n",
       "Tinnitus                                                                  34\n",
       "ge (amlodipine / valsartan)                                               33\n",
       "Breakthrough Pain                                                         33\n",
       "Human Papillomavirus Prophylaxis                                          33\n",
       "acial Wrinkles                                                            32\n",
       "8</span> users found this comment helpful.                                31\n",
       "Condylomata Acuminata                                                     31\n",
       "COPD, Acute                                                               30\n",
       "Influenza Prophylaxis                                                     30\n",
       "Temporomandibular Joint Disorde                                           30\n",
       "Oral Thrush                                                               30\n",
       "Seborrheic Dermatitis                                                     30\n",
       "Ventricular Tachycardia                                                   30\n",
       "9</span> users found this comment helpful.                                30\n",
       "Duodenal Ulce                                                             29\n",
       "Mitral Valve Prolapse                                                     29\n",
       "Actinic Keratosis                                                         29\n",
       "moterol / mometasone)                                                     29\n",
       "10</span> users found this comment helpful.                               28\n",
       "Light Anesthesia                                                          28\n",
       "Herbal Supplementation                                                    28\n",
       "Cyclic Vomiting Syndrome                                                  28\n",
       "Dysautonomia                                                              28\n",
       "Insomnia, Stimulant-Associated                                            27\n",
       "Hiccups                                                                   27\n",
       "Photoaging of the Skin                                                    27\n",
       "Chronic Lymphocytic Leukemia                                              26\n",
       "Otitis Externa                                                            26\n",
       "Night Terrors                                                             26\n",
       "min / sitagliptin)                                                        26\n",
       "Postural Orthostatic Tachycardia Syndrome                                 26\n",
       "Juvenile Rheumatoid Arthritis                                             26\n",
       "Tinea Corporis                                                            25\n",
       "Nocturnal Leg Cramps                                                      25\n",
       "Precocious Puberty                                                        25\n",
       "Herpes Zoste                                                              25\n",
       "Extrapyramidal Reaction                                                   25\n",
       "Pharyngitis                                                               24\n",
       "Inflammatory Bowel Disease                                                24\n",
       "Postoperative Ocular Inflammation                                         24\n",
       "Labor Pain                                                                24\n",
       "Pneumococcal Disease Prophylaxis                                          24\n",
       "Vitamin/Mineral Supplementation and Deficiency                            23\n",
       "Atrophic Urethritis                                                       23\n",
       "Skin Cance                                                                22\n",
       "Bone infection                                                            22\n",
       "Allergic Urticaria                                                        22\n",
       "Ischemic Stroke, Prophylaxis                                              22\n",
       "Chronic Spasticity                                                        22\n",
       "Tinea Versicol                                                            22\n",
       "Swine Flu                                                                 21\n",
       "Hypoestrogenism                                                           21\n",
       "Insulin Resistance Syndrome                                               21\n",
       "Atrial Flutte                                                             21\n",
       "Melanoma, Metastatic                                                      21\n",
       "13</span> users found this comment helpful.                               21\n",
       "Tinea Pedis                                                               21\n",
       "Hyperphosphatemia of Renal Failure                                        21\n",
       "Lennox-Gastaut Syndrome                                                   20\n",
       "Non-Hodgkin's Lymphoma                                                    20\n",
       "Angina Pectoris Prophylaxis                                               20\n",
       "Prevention of Osteoporosis                                                20\n",
       "Meniere's Disease                                                         20\n",
       "Vitamin D Deficiency                                                      19\n",
       "Gas                                                                       19\n",
       "Diabetic Kidney Disease                                                   19\n",
       "Left Ventricular Dysfunction                                              19\n",
       "Xerostomia                                                                19\n",
       "Burning Mouth Syndrome                                                    19\n",
       "Methicillin-Resistant Staphylococcus Aureus Infection                     19\n",
       "Breast Cancer, Adjuvant                                                   19\n",
       "Malaria                                                                   19\n",
       "Diaper Rash                                                               18\n",
       "Pseudobulbar Affect                                                       18\n",
       "Lactose Intolerance                                                       18\n",
       "Progesterone Insufficiency                                                18\n",
       "Nightmares                                                                18\n",
       "Anemia                                                                    18\n",
       "Nausea/Vomiting, Postoperative                                            18\n",
       "Uveitis                                                                   18\n",
       "12</span> users found this comment helpful.                               18\n",
       "Ovarian Cance                                                             17\n",
       "Onychomycosis, Fingernail                                                 17\n",
       "Hereditary Angioedema                                                     17\n",
       "Myelodysplastic Syndrome                                                  17\n",
       "Benzodiazepine Withdrawal                                                 17\n",
       "Multiple Myeloma                                                          17\n",
       "15</span> users found this comment helpful.                               17\n",
       "Macular Degeneration                                                      17\n",
       "Juvenile Idiopathic Arthritis                                             17\n",
       "Ovulation Induction                                                       16\n",
       "Soft Tissue Sarcoma                                                       16\n",
       "Undifferentiated Connective Tissue Disease                                16\n",
       "Chronic Pancreatitis                                                      16\n",
       "Seasonal Affective Disorde                                                16\n",
       "Primary Ovarian Failure                                                   15\n",
       "Giardiasis                                                                15\n",
       "Pancreatic Cance                                                          15\n",
       "Diagnosis and Investigation                                               15\n",
       "Lyme Disease, Neurologic                                                  15\n",
       "High Cholesterol, Familial Homozygous                                     14\n",
       "Diabetes Insipidus                                                        14\n",
       "Tinea Cruris                                                              14\n",
       "Expectoration                                                             14\n",
       "Hyperlipoproteinemia                                                      14\n",
       "Streptococcal Infection                                                   14\n",
       "17</span> users found this comment helpful.                               14\n",
       "Behcet's Disease                                                          14\n",
       "16</span> users found this comment helpful.                               14\n",
       "Trichotillomania                                                          14\n",
       "14</span> users found this comment helpful.                               14\n",
       "zen Shoulde                                                               14\n",
       "Deep Vein Thrombosis, Prophylaxis                                         14\n",
       "Computed Tomography                                                       13\n",
       "New Daily Persistent Headache                                             13\n",
       "Hypertensive Emergency                                                    13\n",
       "Pain/Feve                                                                 13\n",
       "Ischemic Stroke                                                           13\n",
       "Dyspareunia                                                               13\n",
       "20</span> users found this comment helpful.                               13\n",
       "Hepatitis B                                                               13\n",
       "Lichen Sclerosus                                                          13\n",
       "Bronchiectasis                                                            13\n",
       "Surgical Prophylaxis                                                      13\n",
       "Premenstrual Syndrome                                                     12\n",
       "Cutaneous Candidiasis                                                     12\n",
       "Anal Fissure and Fistula                                                  12\n",
       "eve                                                                       12\n",
       "Intermittent Claudication                                                 12\n",
       "Hyperlipoproteinemia Type IIa, Elevated LDL                               12\n",
       "Hyperthyroidism                                                           12\n",
       "Secondary Hyperparathyroidism                                             12\n",
       "Persistent Depressive Disorde                                             12\n",
       "Intraocular Hypertension                                                  12\n",
       "Autoimmune Hepatitis                                                      12\n",
       "Asperger Syndrome                                                         12\n",
       "Conjunctivitis                                                            12\n",
       "Cystic Fibrosis                                                           12\n",
       "Skin Rash                                                                 12\n",
       "mulation) (phenylephrine)                                                 12\n",
       "Osteolytic Bone Metastases of Solid Tumors                                12\n",
       "Post-Cholecystectomy Diarrhea                                             12\n",
       "Nasal Polyps                                                              12\n",
       "18</span> users found this comment helpful.                               11\n",
       "Vitamin B12 Deficiency                                                    11\n",
       "19</span> users found this comment helpful.                               11\n",
       "Lichen Planus                                                             11\n",
       "Dystonia                                                                  11\n",
       "Polycythemia Vera                                                         11\n",
       "Opiate Adjunct                                                            11\n",
       "Prevention of Cardiovascular Disease                                      11\n",
       "Traveler's Diarrhea                                                       11\n",
       "Diarrhea, Acute                                                           11\n",
       "Scabies                                                                   11\n",
       "Addison's Disease                                                         11\n",
       "Bursitis                                                                  11\n",
       "Impetig                                                                   10\n",
       "Ulcerative Proctitis                                                      10\n",
       "Thyroid Cance                                                             10\n",
       "Tuberculosis, Latent                                                      10\n",
       "Herpes Simplex, Mucocutaneous/Immunocompetent Host                        10\n",
       "Prevention of Hypokalemia                                                 10\n",
       "min / saxagliptin)                                                        10\n",
       "Chronic Myofascial Pain                                                   10\n",
       "11</span> users found this comment helpful.                               10\n",
       "Adult Human Growth Hormone Deficiency                                     10\n",
       "Opioid Overdose                                                           10\n",
       "Pulmonary Embolism, Recurrent Event                                        9\n",
       "Deep Vein Thrombosis, First Event                                          9\n",
       "Sore Throat                                                                9\n",
       "Deep Vein Thrombosis, Recurrent Event                                      9\n",
       "Dermatomyositis                                                            9\n",
       "Prevention of Dental Caries                                                9\n",
       "Intraabdominal Infection                                                   9\n",
       "21</span> users found this comment helpful.                                9\n",
       "Body Dysmorphic Disorde                                                    9\n",
       "Costochondritis                                                            9\n",
       "Hypoparathyroidism                                                         9\n",
       "23</span> users found this comment helpful.                                9\n",
       "Pelvic Inflammatory Disease                                                9\n",
       "Local Anesthesia                                                           9\n",
       "Perioral Dermatitis                                                        9\n",
       "Spondylolisthesis                                                          9\n",
       "Menopausal Disorders                                                       9\n",
       "TSH Suppression                                                            9\n",
       "Lactation Augmentation                                                     9\n",
       "Pancreatic Exocrine Dysfunction                                            8\n",
       "Agitation                                                                  8\n",
       "B12 Nutritional Deficiency                                                 8\n",
       "Labor Induction                                                            8\n",
       "Bacterial Endocarditis Prevention                                          8\n",
       "Adrenocortical Insufficiency                                               8\n",
       "Status Epilepticus                                                         8\n",
       "Lyme Disease, Arthritis                                                    8\n",
       "Lymphoma                                                                   8\n",
       "Pediatric Growth Hormone Deficiency                                        8\n",
       "Hepatic Encephalopathy                                                     8\n",
       "Dermatologic Lesion                                                        8\n",
       "Candidemia                                                                 8\n",
       "Gastrointestinal Stromal Tum                                               8\n",
       "Nasal Carriage of Staphylococcus aureus                                    8\n",
       "Brain Tum                                                                  8\n",
       "Atherosclerosis                                                            8\n",
       "Dandruff                                                                   8\n",
       "Bronchospasm Prophylaxis                                                   8\n",
       "lic Acid Deficiency                                                        8\n",
       "Lipodystrophy                                                              7\n",
       "Immunosuppression                                                          7\n",
       "Diabetic Macular Edema                                                     7\n",
       "Head and Neck Cance                                                        7\n",
       "Bleeding Disorde                                                           7\n",
       "NSAID-Induced Gastric Ulce                                                 7\n",
       "Hypoactive Sexual Desire Disorde                                           7\n",
       "Idiopathic Thrombocytopenic Purpura                                        7\n",
       "von Willebrand's Disease                                                   7\n",
       "Ophthalmic Surgery                                                         7\n",
       "Tinea Capitis                                                              7\n",
       "Pinworm Infection (Enterobius vermicularis)                                7\n",
       "Endometrial Cance                                                          7\n",
       "Performance Anxiety                                                        7\n",
       "Abortion                                                                   7\n",
       "Wegener's Granulomatosis                                                   7\n",
       "Macular Edema                                                              7\n",
       "Mountain Sickness / Altitude Sickness                                      7\n",
       "25</span> users found this comment helpful.                                7\n",
       "Premature Ventricular Depolarizations                                      6\n",
       "Still's Disease                                                            6\n",
       "Glioblastoma Multi                                                         6\n",
       "Dietary Fiber Supplementation                                              6\n",
       "amilial Mediterranean Feve                                                 6\n",
       "Dermatophytosis                                                            6\n",
       "Hepatocellular Carcinoma                                                   6\n",
       "Herpes Zoster, Prophylaxis                                                 6\n",
       "Iritis                                                                     6\n",
       "Systemic Mastocytosis                                                      6\n",
       "Endometrial Hyperplasia                                                    6\n",
       "Cataplexy                                                                  6\n",
       "Carcinoid Tum                                                              6\n",
       "Nephrotic Syndrome                                                         6\n",
       "Gingivitis                                                                 6\n",
       "Dumping Syndrome                                                           6\n",
       "Candida Urinary Tract Infection                                            6\n",
       "Herpes Simplex, Mucocutaneous/Immunocompromised Host                       6\n",
       "NSAID-Induced Ulcer Prophylaxis                                            6\n",
       "Mucositis                                                                  6\n",
       "Anemia Associated with Chronic Renal Failure                               6\n",
       "Thrombocythemia                                                            6\n",
       "Biliary Cirrhosis                                                          6\n",
       "AIDS Related Wasting                                                       5\n",
       "Primary Hyperaldosteronism                                                 5\n",
       "Prevention of Atherothrombotic Events                                      5\n",
       "36</span> users found this comment helpful.                                5\n",
       "min / pioglitazone)                                                        5\n",
       "Gout, Prophylaxis                                                          5\n",
       "Head Injury                                                                5\n",
       "Hypercalcemia of Malignancy                                                5\n",
       "Pe                                                                         5\n",
       "Turner's Syndrome                                                          5\n",
       "Periodontitis                                                              5\n",
       "Auditory Processing Disorde                                                5\n",
       "Primary Nocturnal Enuresis                                                 5\n",
       "29</span> users found this comment helpful.                                5\n",
       "Anaplastic Oligodendroglioma                                               5\n",
       "CMV Prophylaxis                                                            5\n",
       "Varicella-Zoste                                                            5\n",
       "SIADH                                                                      5\n",
       "Mild Cognitive Impairment                                                  5\n",
       "Peripheral Arterial Disease                                                5\n",
       "Melanoma                                                                   5\n",
       "Glaucoma/Intraocular Hypertension                                          5\n",
       "Cyclothymic Disorde                                                        5\n",
       "Ventricular Fibrillation                                                   5\n",
       "Pre-Exposure Prophylaxis                                                   5\n",
       "Pulmonary Embolism, First Event                                            5\n",
       "33</span> users found this comment helpful.                                5\n",
       "Gonococcal Infection, Uncomplicated                                        5\n",
       "Glioblastoma Multiforme                                                    5\n",
       "Pupillary Dilation                                                         5\n",
       "Cance                                                                      5\n",
       "Endometrial Hyperplasia, Prophylaxis                                       5\n",
       "Sarcoidosis                                                                5\n",
       "Herpes Simplex Dendritic Keratitis                                         5\n",
       "Reiter's Syndrome                                                          5\n",
       "Cardiovascular Risk Reduction                                              5\n",
       "Spondyloarthritis                                                          5\n",
       "Transient Ischemic Attack                                                  5\n",
       "27</span> users found this comment helpful.                                5\n",
       "Leukemia                                                                   5\n",
       "mis                                                                        5\n",
       "Peptic Ulce                                                                5\n",
       "Hypokalemia                                                                5\n",
       "Ear Wax Impaction                                                          5\n",
       "41</span> users found this comment helpful.                                5\n",
       "Dementia                                                                   4\n",
       "Hypoglycemia                                                               4\n",
       "Topical Disinfection                                                       4\n",
       "43</span> users found this comment helpful.                                4\n",
       "Peripheral T-cell Lymphoma                                                 4\n",
       "Paroxysmal Supraventricular Tachycardia                                    4\n",
       "Breast Cancer, Prevention                                                  4\n",
       "Acute Lymphoblastic Leukemia                                               4\n",
       "Nephrocalcinosis                                                           4\n",
       "44</span> users found this comment helpful.                                4\n",
       "Anemia, Sickle Cell                                                        4\n",
       "Granuloma Annulare                                                         4\n",
       "Bullous Pemphigoid                                                         4\n",
       "Nausea/Vomiting, Radiation Induced                                         4\n",
       "Nonoccupational Exposure                                                   4\n",
       "Mycobacterium avium-intracellulare, Treatment                              4\n",
       "ge HCT (amlodipine / hydrochlorothiazide / valsartan)                      4\n",
       "24</span> users found this comment helpful.                                4\n",
       "Prosthetic Heart Valves, Mechanical Valves - Thrombosis Prophylaxis        4\n",
       "Infection Prophylaxis                                                      4\n",
       "Pudendal Neuralgia                                                         4\n",
       "Osteolytic Bone Lesions of Multiple Myeloma                                4\n",
       "Anesthetic Adjunct                                                         4\n",
       "Gastric Ulcer Maintenance Treatment                                        4\n",
       "cal Segmental Glomerulosclerosis                                           4\n",
       "Deep Neck Infection                                                        4\n",
       "Reversal of Opioid Sedation                                                4\n",
       "ICU Agitation                                                              4\n",
       "Ascariasis                                                                 4\n",
       "Oral and Dental Conditions                                                 4\n",
       "Porphyria                                                                  4\n",
       "Alpha-1 Proteinase Inhibitor Deficiency                                    4\n",
       "STD Prophylaxis                                                            4\n",
       "Eosinophilic Esophagitis                                                   4\n",
       "Enterocolitis                                                              4\n",
       "Noninfectious Colitis                                                      4\n",
       "Lymphocytic Colitis                                                        4\n",
       "Gastritis/Duodenitis                                                       4\n",
       "CNS Magnetic Resonance Imaging                                             4\n",
       "Hypocalcemia                                                               4\n",
       "32</span> users found this comment helpful.                                4\n",
       "Lewy Body Dementia                                                         3\n",
       "Severe Mood Dysregulation                                                  3\n",
       "Acute Promyelocytic Leukemia                                               3\n",
       "Varicose Veins                                                             3\n",
       "Cutaneous T-cell Lymphoma                                                  3\n",
       "actor IX Deficiency                                                        3\n",
       "Amebiasis                                                                  3\n",
       "Pseudomembranous Colitis                                                   3\n",
       "Aphthous Ulce                                                              3\n",
       "Hyperkalemia                                                               3\n",
       "Cerebral Spasticity                                                        3\n",
       "28</span> users found this comment helpful.                                3\n",
       "Gender Dysphoria                                                           3\n",
       "Pemphigus                                                                  3\n",
       "Endoscopy or Radiology Premedication                                       3\n",
       "Warts                                                                      3\n",
       "Hidradenitis Suppurativa                                                   3\n",
       "Squamous Cell Carcinoma                                                    3\n",
       "Histoplasmosis                                                             3\n",
       "Esophageal Variceal Hemorrhage Prophylaxis                                 3\n",
       "Rejection Prophylaxis                                                      3\n",
       "Anorexia/Feeding Problems                                                  3\n",
       "Thromboembolic Stroke Prophylaxis                                          3\n",
       "31</span> users found this comment helpful.                                3\n",
       "Peritonitis                                                                3\n",
       "Ocular Rosacea                                                             3\n",
       "Antiphospholipid Syndrome                                                  3\n",
       "Chronic Inflammatory Demyelinating Polyradiculoneuropathy                  3\n",
       "Women (oxybutynin)                                                         3\n",
       "Sunburn                                                                    3\n",
       "Stress Ulcer Prophylaxis                                                   3\n",
       "Anal Itching                                                               3\n",
       "Meningitis                                                                 3\n",
       "Ectopic Pregnancy                                                          3\n",
       "Dupuytren's contracture                                                    3\n",
       "Hyperekplexia                                                              3\n",
       "Anaplastic Astrocytoma                                                     3\n",
       "Wolff-Parkinson-White Syndrome                                             3\n",
       "Tuberculosis, Prophylaxis                                                  3\n",
       "Oligospermia                                                               3\n",
       "Neurosurgery                                                               3\n",
       "amilial Cold Autoinflammatory Syndrome                                     3\n",
       "Uterine Bleeding                                                           3\n",
       "Dientamoeba fragilis                                                       3\n",
       "Rhinorrhea                                                                 3\n",
       "Esophageal Candidiasis                                                     3\n",
       "ailure to Thrive                                                           3\n",
       "Small Bowel Bacterial Overgrowth                                           3\n",
       "Small Fiber Neuropathy                                                     3\n",
       "Autoimmune Hemolytic Anemia                                                3\n",
       "Hemophilia A                                                               3\n",
       "Aspiration Pneumonia                                                       3\n",
       "39</span> users found this comment helpful.                                3\n",
       "Anemia, Chemotherapy Induced                                               3\n",
       "Thrombocytopenia                                                           2\n",
       "99</span> users found this comment helpful.                                2\n",
       "Gonococcal Infection, Disseminated                                         2\n",
       "74</span> users found this comment helpful.                                2\n",
       "t Care                                                                     2\n",
       "Neck Pain                                                                  2\n",
       "Systemic Sclerosis                                                         2\n",
       "Testicular Cance                                                           2\n",
       "Nocardiosis                                                                2\n",
       "Hyperparathyroidism Secondary to Renal Impairment                          2\n",
       "22</span> users found this comment helpful.                                2\n",
       "Cutaneous Larva Migrans                                                    2\n",
       "Blepharitis                                                                2\n",
       "Leukocytoclastic Vasculitis                                                2\n",
       "Coronary Artery Disease                                                    2\n",
       "42</span> users found this comment helpful.                                2\n",
       "Duodenal Ulcer Prophylaxis                                                 2\n",
       "Cholera                                                                    2\n",
       "Schnitzler Syndrome                                                        2\n",
       "55</span> users found this comment helpful.                                2\n",
       "Hypotension                                                                2\n",
       "Pityriasis rubra pilaris                                                   2\n",
       "Paget's Disease                                                            2\n",
       "Gastrointestinal Decontamination                                           2\n",
       "Pertussis                                                                  2\n",
       "Avian Influenza                                                            2\n",
       "Mixed Connective Tissue Disease                                            2\n",
       "Anaphylaxis                                                                2\n",
       "Campylobacter Gastroenteritis                                              2\n",
       "Hyperphosphatemia                                                          2\n",
       "Hepatic Tum                                                                2\n",
       "Aggressive Behavi                                                          2\n",
       "Body Imaging                                                               2\n",
       "Euvolemic Hyponatremia                                                     2\n",
       "Breast Cancer, Palliative                                                  2\n",
       "Anthrax                                                                    2\n",
       "Skin Disinfection, Preoperative                                            2\n",
       "Nonalcoholic Fatty Liver Disease                                           2\n",
       "Percutaneous Coronary Intervention                                         2\n",
       "Chronic Eosinophilic Leukemia                                              2\n",
       "45</span> users found this comment helpful.                                2\n",
       "Solid Tumors                                                               2\n",
       "Malignant Glioma                                                           2\n",
       "Muscle Twitching                                                           2\n",
       "Myxedema Coma                                                              2\n",
       "85</span> users found this comment helpful.                                2\n",
       "Hypomagnesemia                                                             2\n",
       "75</span> users found this comment helpful.                                2\n",
       "Intermittent Explosive Disorde                                             2\n",
       "Schistosoma japonicum                                                      2\n",
       "Salivary Gland Cance                                                       2\n",
       "Niacin Deficiency                                                          2\n",
       "t Pac with Cyclobenzaprine (cyclobenzaprine)                               2\n",
       "Abdominal Distension                                                       2\n",
       "Deep Vein Thrombosis Prophylaxis after Hip Replacement Surgery             2\n",
       "Vitamin K Deficiency                                                       2\n",
       "Hyperlipoproteinemia Type IV, Elevated VLDL                                2\n",
       "Croup                                                                      2\n",
       "Tetanus                                                                    2\n",
       "Submental Fullness                                                         2\n",
       "35</span> users found this comment helpful.                                2\n",
       "Neurosis                                                                   2\n",
       "Peyronie's Disease                                                         2\n",
       "min / rosiglitazone)                                                       2\n",
       "Tic Disorde                                                                2\n",
       "142</span> users found this comment helpful.                               2\n",
       "Renal Transplant                                                           2\n",
       "Prosthetic Heart Valves, Tissue Valves - Thrombosis Prophylaxis            2\n",
       "Eyelash Hypotrichosis                                                      2\n",
       "Liver Magnetic Resonance Imaging                                           2\n",
       "Hairy Cell Leukemia                                                        2\n",
       "46</span> users found this comment helpful.                                2\n",
       "tic (mycophenolic acid)                                                    2\n",
       "Toothache                                                                  2\n",
       "Angioedema                                                                 2\n",
       "Typhoid Feve                                                               2\n",
       "Tardive Dyskinesia                                                         2\n",
       "Deep Vein Thrombosis Prophylaxis after Knee Replacement Surgery            2\n",
       "Mononucleosis                                                              2\n",
       "Ichthyosis                                                                 2\n",
       "Gaucher Disease                                                            2\n",
       "Delayed Puberty, Male                                                      2\n",
       "Sleep Paralysis                                                            2\n",
       "Platelet Aggregation Inhibition                                            2\n",
       "Babesiosis                                                                 2\n",
       "Pathological Hypersecretory Conditions                                     2\n",
       "Urinary Retention                                                          2\n",
       "Meningococcal Meningitis Prophylaxis                                       1\n",
       "mist (                                                                     1\n",
       "Cluster-Tic Syndrome                                                       1\n",
       "Syringomyelia                                                              1\n",
       "Gestational Diabetes                                                       1\n",
       "Aspergillosis, Aspergilloma                                                1\n",
       "Pseudogout, Prophylaxis                                                    1\n",
       "Portal Hypertension                                                        1\n",
       "Reversal of Nondepolarizing Muscle Relaxants                               1\n",
       "47</span> users found this comment helpful.                                1\n",
       "Short Stature for Age                                                      1\n",
       "Neurotic Depression                                                        1\n",
       "Cerebral Edema                                                             1\n",
       "me                                                                         1\n",
       "Hyperuricemia Secondary to Chemotherapy                                    1\n",
       "Prevention of Perinatal Group B Streptococcal Disease                      1\n",
       "Small Bowel or Pancreatic Fistula                                          1\n",
       "Pemphigoid                                                                 1\n",
       "Keratitis                                                                  1\n",
       "123</span> users found this comment helpful.                               1\n",
       "Microscopic polyangiitis                                                   1\n",
       "Secondary Cutaneous Bacterial Infections                                   1\n",
       "Hodgkin's Lymphoma                                                         1\n",
       "26</span> users found this comment helpful.                                1\n",
       "Hemophilia B                                                               1\n",
       "m Pain Disorde                                                             1\n",
       "77</span> users found this comment helpful.                                1\n",
       "Systemic Candidiasis                                                       1\n",
       "Myeloproliferative Disorders                                               1\n",
       "61</span> users found this comment helpful.                                1\n",
       "Diagnostic Bronchograms                                                    1\n",
       "Neoplastic Diseases                                                        1\n",
       "51</span> users found this comment helpful.                                1\n",
       "Mycoplasma Pneumonia                                                       1\n",
       "Linear IgA Disease                                                         1\n",
       "Subarachnoid Hemorrhage                                                    1\n",
       "ungal Pneumonia                                                            1\n",
       "Upper Limb Spasticity                                                      1\n",
       "145</span> users found this comment helpful.                               1\n",
       "Scleroderma                                                                1\n",
       "Zollinger-Ellison Syndrome                                                 1\n",
       "Tinea Barbae                                                               1\n",
       "Acute Nonlymphocytic Leukemia                                              1\n",
       "62</span> users found this comment helpful.                                1\n",
       "92</span> users found this comment helpful.                                1\n",
       "95</span> users found this comment helpful.                                1\n",
       "Cyclitis                                                                   1\n",
       "76</span> users found this comment helpful.                                1\n",
       "Strabismus                                                                 1\n",
       "Ramsay Hunt Syndrome                                                       1\n",
       "Occipital Neuralgia                                                        1\n",
       "Klinefelter Syndrome                                                       1\n",
       "Patent Ductus Arteriosus                                                   1\n",
       "Joint Infection                                                            1\n",
       "Stomach Cance                                                              1\n",
       "Manscaping Pain                                                            1\n",
       "Organ Transplant, Rejection Reversal                                       1\n",
       "Coccidioidomycosis                                                         1\n",
       "Strongyloidiasis                                                           1\n",
       "Gastric Cance                                                              1\n",
       "ibrocystic Breast Disease                                                  1\n",
       "121</span> users found this comment helpful.                               1\n",
       "ungal Infection Prophylaxis                                                1\n",
       "Short Stature                                                              1\n",
       "Hypercalcemia                                                              1\n",
       "Sporotrichosis                                                             1\n",
       "146</span> users found this comment helpful.                               1\n",
       "64</span> users found this comment helpful.                                1\n",
       "34</span> users found this comment helpful.                                1\n",
       "Ehrlichiosis                                                               1\n",
       "Hypopituitarism                                                            1\n",
       "Infectious Diarrhea                                                        1\n",
       "Hemangioma                                                                 1\n",
       "Postpartum Breast Pain                                                     1\n",
       "Multiple Endocrine Adenomas                                                1\n",
       "Postoperative Increased Intraocular Pressure                               1\n",
       "Pruritus of Partial Biliary Obstruction                                    1\n",
       "Primary Hyperaldosteronism Diagnosis                                       1\n",
       "94</span> users found this comment helpful.                                1\n",
       "Radionuclide Myocardial Perfusion Study                                    1\n",
       "54</span> users found this comment helpful.                                1\n",
       "Meningitis, Meningococcal                                                  1\n",
       "Parkinsonian Trem                                                          1\n",
       "Rabies Prophylaxis                                                         1\n",
       "Sepsis                                                                     1\n",
       "Women (minoxidil)                                                          1\n",
       "Myelofibrosis                                                              1\n",
       "Wilson's Disease                                                           1\n",
       "Transverse Myelitis                                                        1\n",
       "Parkinsonism                                                               1\n",
       "48</span> users found this comment helpful.                                1\n",
       "Thyrotoxicosis                                                             1\n",
       "Dermatitis Herpetiformis                                                   1\n",
       "30</span> users found this comment helpful.                                1\n",
       "Epididymitis, Sexually Transmitted                                         1\n",
       "Cachexia                                                                   1\n",
       "63</span> users found this comment helpful.                                1\n",
       "Hypokalemic Periodic Paralysis                                             1\n",
       "Bartonellosis                                                              1\n",
       "Thyroid Suppression Test                                                   1\n",
       "Asystole                                                                   1\n",
       "Ventricular Arrhythmia                                                     1\n",
       "AV Heart Block                                                             1\n",
       "llicular Lymphoma                                                          1\n",
       "98</span> users found this comment helpful.                                1\n",
       "Cogan's Syndrome                                                           1\n",
       "Epicondylitis, Tennis Elbow                                                1\n",
       "Dercum's Disease                                                           1\n",
       "Corneal Ulce                                                               1\n",
       "acial Lipoatrophy                                                          1\n",
       "Hypodermoclysis                                                            1\n",
       "Hepatitis B Prevention                                                     1\n",
       "Tuberculosis, Active                                                       1\n",
       "Cerebrovascular Insufficiency                                              1\n",
       "Dermatitis Herpeti                                                         1\n",
       "Anti NMDA Receptor Encephalitis                                            1\n",
       "72</span> users found this comment helpful.                                1\n",
       "Gonadotropin Inhibition                                                    1\n",
       "unctional Gastric Disorde                                                  1\n",
       "Acetaminophen Overdose                                                     1\n",
       "Paragonimus westermani, Lung Fluke                                         1\n",
       "Neuritis                                                                   1\n",
       "Hyperbilirubinemia                                                         1\n",
       "Mumps Prophylaxis                                                          1\n",
       "110</span> users found this comment helpful.                               1\n",
       "40</span> users found this comment helpful.                                1\n",
       "Amyotrophic Lateral Sclerosis                                              1\n",
       "Somatoform Pain Disorde                                                    1\n",
       "Esophageal Spasm                                                           1\n",
       "Giant Cell Tumor of Bone                                                   1\n",
       "Wound Cleansing                                                            1\n",
       "79</span> users found this comment helpful.                                1\n",
       "Gallbladder Disease                                                        1\n",
       "84</span> users found this comment helpful.                                1\n",
       "Schilling Test                                                             1\n",
       "Oppositional Defiant Disorde                                               1\n",
       "Legionella Pneumonia                                                       1\n",
       "Dissociative Identity Disorde                                              1\n",
       "Hydrocephalus                                                              1\n",
       "Hyperlipoproteinemia Type III, Elevated beta-VLDL   IDL                    1\n",
       "Q Feve                                                                     1\n",
       "Neutropenia                                                                1\n",
       "Name: condition, dtype: int64"
      ]
     },
     "execution_count": 4,
     "metadata": {},
     "output_type": "execute_result"
    }
   ],
   "source": [
    "df.condition.value_counts()"
   ]
  },
  {
   "cell_type": "code",
   "execution_count": 5,
   "metadata": {},
   "outputs": [],
   "source": [
    "df_train = df[(df['condition']=='Birth Control') | (df['condition']=='Depression') | (df['condition']=='High Blood Pressure')|(df['condition']=='Diabetes, Type 2')]"
   ]
  },
  {
   "cell_type": "code",
   "execution_count": 6,
   "metadata": {},
   "outputs": [
    {
     "data": {
      "text/plain": [
       "(161297, 7)"
      ]
     },
     "execution_count": 6,
     "metadata": {},
     "output_type": "execute_result"
    }
   ],
   "source": [
    "df.shape"
   ]
  },
  {
   "cell_type": "code",
   "execution_count": 7,
   "metadata": {},
   "outputs": [
    {
     "data": {
      "text/plain": [
       "(42732, 7)"
      ]
     },
     "execution_count": 7,
     "metadata": {},
     "output_type": "execute_result"
    }
   ],
   "source": [
    "df_train.shape"
   ]
  },
  {
   "cell_type": "code",
   "execution_count": 8,
   "metadata": {},
   "outputs": [],
   "source": [
    "X = df_train.drop(['Unnamed: 0','drugName','rating','date','usefulCount'],axis=1)"
   ]
  },
  {
   "cell_type": "markdown",
   "metadata": {},
   "source": [
    "## EDA"
   ]
  },
  {
   "cell_type": "code",
   "execution_count": 9,
   "metadata": {},
   "outputs": [
    {
     "data": {
      "text/plain": [
       "Birth Control          28788\n",
       "Depression              9069\n",
       "Diabetes, Type 2        2554\n",
       "High Blood Pressure     2321\n",
       "Name: condition, dtype: int64"
      ]
     },
     "execution_count": 9,
     "metadata": {},
     "output_type": "execute_result"
    }
   ],
   "source": [
    "X.condition.value_counts()"
   ]
  },
  {
   "cell_type": "code",
   "execution_count": 10,
   "metadata": {},
   "outputs": [
    {
     "data": {
      "text/html": [
       "<div>\n",
       "<style scoped>\n",
       "    .dataframe tbody tr th:only-of-type {\n",
       "        vertical-align: middle;\n",
       "    }\n",
       "\n",
       "    .dataframe tbody tr th {\n",
       "        vertical-align: top;\n",
       "    }\n",
       "\n",
       "    .dataframe thead th {\n",
       "        text-align: right;\n",
       "    }\n",
       "</style>\n",
       "<table border=\"1\" class=\"dataframe\">\n",
       "  <thead>\n",
       "    <tr style=\"text-align: right;\">\n",
       "      <th></th>\n",
       "      <th>condition</th>\n",
       "      <th>review</th>\n",
       "    </tr>\n",
       "  </thead>\n",
       "  <tbody>\n",
       "    <tr>\n",
       "      <th>2</th>\n",
       "      <td>Birth Control</td>\n",
       "      <td>\"I used to take another oral contraceptive, wh...</td>\n",
       "    </tr>\n",
       "    <tr>\n",
       "      <th>3</th>\n",
       "      <td>Birth Control</td>\n",
       "      <td>\"This is my first time using any form of birth...</td>\n",
       "    </tr>\n",
       "    <tr>\n",
       "      <th>9</th>\n",
       "      <td>Birth Control</td>\n",
       "      <td>\"I had been on the pill for many years. When m...</td>\n",
       "    </tr>\n",
       "    <tr>\n",
       "      <th>11</th>\n",
       "      <td>Depression</td>\n",
       "      <td>\"I have taken anti-depressants for years, with...</td>\n",
       "    </tr>\n",
       "    <tr>\n",
       "      <th>14</th>\n",
       "      <td>Birth Control</td>\n",
       "      <td>\"Started Nexplanon 2 months ago because I have...</td>\n",
       "    </tr>\n",
       "  </tbody>\n",
       "</table>\n",
       "</div>"
      ],
      "text/plain": [
       "        condition                                             review\n",
       "2   Birth Control  \"I used to take another oral contraceptive, wh...\n",
       "3   Birth Control  \"This is my first time using any form of birth...\n",
       "9   Birth Control  \"I had been on the pill for many years. When m...\n",
       "11     Depression  \"I have taken anti-depressants for years, with...\n",
       "14  Birth Control  \"Started Nexplanon 2 months ago because I have..."
      ]
     },
     "execution_count": 10,
     "metadata": {},
     "output_type": "execute_result"
    }
   ],
   "source": [
    "X.head()"
   ]
  },
  {
   "cell_type": "code",
   "execution_count": 11,
   "metadata": {},
   "outputs": [],
   "source": [
    "# segregating dataframe for analyzing individual condition\n",
    "X_birth=X[(X['condition']=='Birth Control')]\n",
    "X_dep=X[(X['condition']=='Depression')]\n",
    "X_bp=X[(X['condition']=='High Blood Pressure')]\n",
    "X_diab=X[(X['condition']=='Diabetes, Type 2')]"
   ]
  },
  {
   "cell_type": "code",
   "execution_count": 12,
   "metadata": {},
   "outputs": [
    {
     "name": "stdout",
     "output_type": "stream",
     "text": [
      "Requirement already satisfied: wordcloud in c:\\users\\lenovo\\anaconda3\\lib\\site-packages (1.9.2)\n",
      "Requirement already satisfied: matplotlib in c:\\users\\lenovo\\anaconda3\\lib\\site-packages (from wordcloud) (3.5.1)\n",
      "Requirement already satisfied: numpy>=1.6.1 in c:\\users\\lenovo\\appdata\\roaming\\python\\python39\\site-packages (from wordcloud) (1.22.4)\n",
      "Requirement already satisfied: pillow in c:\\users\\lenovo\\anaconda3\\lib\\site-packages (from wordcloud) (9.0.1)\n",
      "Requirement already satisfied: python-dateutil>=2.7 in c:\\users\\lenovo\\anaconda3\\lib\\site-packages (from matplotlib->wordcloud) (2.8.2)\n",
      "Requirement already satisfied: fonttools>=4.22.0 in c:\\users\\lenovo\\anaconda3\\lib\\site-packages (from matplotlib->wordcloud) (4.25.0)\n",
      "Requirement already satisfied: pyparsing>=2.2.1 in c:\\users\\lenovo\\anaconda3\\lib\\site-packages (from matplotlib->wordcloud) (3.0.4)\n",
      "Requirement already satisfied: packaging>=20.0 in c:\\users\\lenovo\\anaconda3\\lib\\site-packages (from matplotlib->wordcloud) (21.3)\n",
      "Requirement already satisfied: cycler>=0.10 in c:\\users\\lenovo\\anaconda3\\lib\\site-packages (from matplotlib->wordcloud) (0.11.0)\n",
      "Requirement already satisfied: kiwisolver>=1.0.1 in c:\\users\\lenovo\\anaconda3\\lib\\site-packages (from matplotlib->wordcloud) (1.3.2)\n",
      "Requirement already satisfied: six>=1.5 in c:\\users\\lenovo\\anaconda3\\lib\\site-packages (from python-dateutil>=2.7->matplotlib->wordcloud) (1.16.0)\n",
      "Note: you may need to restart the kernel to use updated packages.\n"
     ]
    }
   ],
   "source": [
    "pip install wordcloud"
   ]
  },
  {
   "cell_type": "markdown",
   "metadata": {},
   "source": [
    "from wordcloud import WordCloud\n",
    "plt.figure(figsize = (20,20)) # Text that is Fake News Headlines\n",
    "wc = WordCloud(max_words = 500 , width = 1600 , height = 800).generate(\" \".join(X_birth.review))\n",
    "plt.imshow(wc , interpolation = 'bilinear')\n",
    "plt.title('Word cloud for Birth control',fontsize=14)"
   ]
  },
  {
   "cell_type": "markdown",
   "metadata": {},
   "source": [
    "plt.figure(figsize = (20,20)) # Text that is Fake News Headlines\n",
    "wc = WordCloud(max_words = 500 , width = 1600 , height = 800).generate(\" \".join(X_dep.review))\n",
    "plt.imshow(wc , interpolation = 'bilinear')\n",
    "plt.title('Word cloud for Depression',fontsize=14)"
   ]
  },
  {
   "cell_type": "markdown",
   "metadata": {},
   "source": [
    "plt.figure(figsize = (20,20)) # Text that is Fake News Headlines\n",
    "wc = WordCloud(max_words = 500 , width = 1600 , height = 800).generate(\" \".join(X_bp.review))\n",
    "plt.imshow(wc , interpolation = 'bilinear')\n",
    "plt.title('Word cloud for High Blood Pressure',fontsize=14)"
   ]
  },
  {
   "cell_type": "markdown",
   "metadata": {},
   "source": [
    "plt.figure(figsize = (20,20)) # Text that is Fake News Headlines\n",
    "wc = WordCloud(max_words = 500 , width = 1600 , height = 800).generate(\" \".join(X_diab.review))\n",
    "plt.imshow(wc , interpolation = 'bilinear')\n",
    "plt.title('Word cloud for Diabetes Type 2',fontsize=14)"
   ]
  },
  {
   "cell_type": "markdown",
   "metadata": {},
   "source": [
    "## data preprocessing"
   ]
  },
  {
   "cell_type": "code",
   "execution_count": 13,
   "metadata": {},
   "outputs": [
    {
     "data": {
      "text/plain": [
       "'\"I used to take another oral contraceptive, which had 21 pill cycle, and was very happy- very light periods, max 5 days, no other side effects. But it contained hormone gestodene, which is not available in US, so I switched to Lybrel, because the ingredients are similar. When my other pills ended, I started Lybrel immediately, on my first day of period, as the instructions said. And the period lasted for two weeks. When taking the second pack- same two weeks. And now, with third pack things got even worse- my third period lasted for two weeks and now it&#039;s the end of the third week- I still have daily brown discharge.\\r\\nThe positive side is that I didn&#039;t have any other side effects. The idea of being period free was so tempting... Alas.\"'"
      ]
     },
     "execution_count": 13,
     "metadata": {},
     "output_type": "execute_result"
    }
   ],
   "source": [
    "X['review'][2]"
   ]
  },
  {
   "cell_type": "code",
   "execution_count": 14,
   "metadata": {},
   "outputs": [
    {
     "data": {
      "text/plain": [
       "'\"I have taken anti-depressants for years, with some improvement but mostly moderate to severe side affects, which makes me go off them.\\r\\n\\r\\nI only take Cymbalta now mostly for pain.\\r\\n\\r\\nWhen I began Deplin, I noticed a major improvement overnight. More energy, better disposition, and no sinking to the low lows of major depression. I have been taking it for about 3 months now and feel like a normal person for the first time ever. Best thing, no side effects.\"'"
      ]
     },
     "execution_count": 14,
     "metadata": {},
     "output_type": "execute_result"
    }
   ],
   "source": [
    "X['review'][11]"
   ]
  },
  {
   "cell_type": "code",
   "execution_count": 15,
   "metadata": {},
   "outputs": [],
   "source": [
    "for i, col in enumerate(X.columns):\n",
    "    X.iloc[:, i] = X.iloc[:, i].str.replace('\"', '')"
   ]
  },
  {
   "cell_type": "code",
   "execution_count": 16,
   "metadata": {},
   "outputs": [
    {
     "name": "stderr",
     "output_type": "stream",
     "text": [
      "C:\\Users\\Lenovo\\AppData\\Local\\Temp\\ipykernel_21308\\999061969.py:2: FutureWarning: Passing a negative integer is deprecated in version 1.0 and will not be supported in future version. Instead, use None to not limit the column width.\n",
      "  pd.set_option('max_colwidth', -1)\n"
     ]
    }
   ],
   "source": [
    "# To set the width of the column to maximum\n",
    "pd.set_option('max_colwidth', -1)"
   ]
  },
  {
   "cell_type": "code",
   "execution_count": 17,
   "metadata": {},
   "outputs": [
    {
     "data": {
      "text/html": [
       "<div>\n",
       "<style scoped>\n",
       "    .dataframe tbody tr th:only-of-type {\n",
       "        vertical-align: middle;\n",
       "    }\n",
       "\n",
       "    .dataframe tbody tr th {\n",
       "        vertical-align: top;\n",
       "    }\n",
       "\n",
       "    .dataframe thead th {\n",
       "        text-align: right;\n",
       "    }\n",
       "</style>\n",
       "<table border=\"1\" class=\"dataframe\">\n",
       "  <thead>\n",
       "    <tr style=\"text-align: right;\">\n",
       "      <th></th>\n",
       "      <th>condition</th>\n",
       "      <th>review</th>\n",
       "    </tr>\n",
       "  </thead>\n",
       "  <tbody>\n",
       "    <tr>\n",
       "      <th>2</th>\n",
       "      <td>Birth Control</td>\n",
       "      <td>I used to take another oral contraceptive, which had 21 pill cycle, and was very happy- very light periods, max 5 days, no other side effects. But it contained hormone gestodene, which is not available in US, so I switched to Lybrel, because the ingredients are similar. When my other pills ended, I started Lybrel immediately, on my first day of period, as the instructions said. And the period lasted for two weeks. When taking the second pack- same two weeks. And now, with third pack things got even worse- my third period lasted for two weeks and now it&amp;#039;s the end of the third week- I still have daily brown discharge.\\r\\nThe positive side is that I didn&amp;#039;t have any other side effects. The idea of being period free was so tempting... Alas.</td>\n",
       "    </tr>\n",
       "    <tr>\n",
       "      <th>3</th>\n",
       "      <td>Birth Control</td>\n",
       "      <td>This is my first time using any form of birth control. I&amp;#039;m glad I went with the patch, I have been on it for 8 months. At first It decreased my libido but that subsided. The only downside is that it made my periods longer (5-6 days to be exact) I used to only have periods for 3-4 days max also made my cramps intense for the first two days of my period, I never had cramps before using birth control. Other than that in happy with the patch</td>\n",
       "    </tr>\n",
       "    <tr>\n",
       "      <th>9</th>\n",
       "      <td>Birth Control</td>\n",
       "      <td>I had been on the pill for many years. When my doctor changed my RX to chateal, it was as effective. It really did help me by completely clearing my acne, this takes about 6 months though. I did not gain extra weight, or develop any emotional health issues. I stopped taking it bc I started using a more natural method of birth control, but started to take it bc I hate that my acne came back at age 28. I really hope symptoms like depression, or weight gain do not begin to affect me as I am older now. I&amp;#039;m also naturally moody, so this may worsen things. I was in a negative mental rut today. Also I hope this doesn&amp;#039;t push me over the edge, as I believe I am depressed. Hopefully it&amp;#039;ll be just like when I was younger.</td>\n",
       "    </tr>\n",
       "    <tr>\n",
       "      <th>11</th>\n",
       "      <td>Depression</td>\n",
       "      <td>I have taken anti-depressants for years, with some improvement but mostly moderate to severe side affects, which makes me go off them.\\r\\n\\r\\nI only take Cymbalta now mostly for pain.\\r\\n\\r\\nWhen I began Deplin, I noticed a major improvement overnight. More energy, better disposition, and no sinking to the low lows of major depression. I have been taking it for about 3 months now and feel like a normal person for the first time ever. Best thing, no side effects.</td>\n",
       "    </tr>\n",
       "    <tr>\n",
       "      <th>14</th>\n",
       "      <td>Birth Control</td>\n",
       "      <td>Started Nexplanon 2 months ago because I have a minimal amount of contraception&amp;#039;s I can take due to my inability to take the hormone that is used in most birth controls. I&amp;#039;m trying to give it time because it is one of my only options right now. But honestly if I had options I&amp;#039;d get it removed.\\r\\nI&amp;#039;ve never had acne problems in my life, and immediately broke out after getting it implanted. Sex drive is completely gone, and I used to have sex with my boyfriend a few days a week, now its completely forced and not even fun for me anymore. I mean I&amp;#039;m on birth control because I like having sex but don&amp;#039;t want to get pregnant, why take a birth control that takes away sex? Very unhappy and hope that I get it back with time or I&amp;#039;m getting it removed.</td>\n",
       "    </tr>\n",
       "  </tbody>\n",
       "</table>\n",
       "</div>"
      ],
      "text/plain": [
       "        condition  \\\n",
       "2   Birth Control   \n",
       "3   Birth Control   \n",
       "9   Birth Control   \n",
       "11  Depression      \n",
       "14  Birth Control   \n",
       "\n",
       "                                                                                                                                                                                                                                                                                                                                                                                                                                                                                                                                                                                                                                                                                                                                                                                                                review  \n",
       "2   I used to take another oral contraceptive, which had 21 pill cycle, and was very happy- very light periods, max 5 days, no other side effects. But it contained hormone gestodene, which is not available in US, so I switched to Lybrel, because the ingredients are similar. When my other pills ended, I started Lybrel immediately, on my first day of period, as the instructions said. And the period lasted for two weeks. When taking the second pack- same two weeks. And now, with third pack things got even worse- my third period lasted for two weeks and now it&#039;s the end of the third week- I still have daily brown discharge.\\r\\nThe positive side is that I didn&#039;t have any other side effects. The idea of being period free was so tempting... Alas.                                 \n",
       "3   This is my first time using any form of birth control. I&#039;m glad I went with the patch, I have been on it for 8 months. At first It decreased my libido but that subsided. The only downside is that it made my periods longer (5-6 days to be exact) I used to only have periods for 3-4 days max also made my cramps intense for the first two days of my period, I never had cramps before using birth control. Other than that in happy with the patch                                                                                                                                                                                                                                                                                                                                                      \n",
       "9   I had been on the pill for many years. When my doctor changed my RX to chateal, it was as effective. It really did help me by completely clearing my acne, this takes about 6 months though. I did not gain extra weight, or develop any emotional health issues. I stopped taking it bc I started using a more natural method of birth control, but started to take it bc I hate that my acne came back at age 28. I really hope symptoms like depression, or weight gain do not begin to affect me as I am older now. I&#039;m also naturally moody, so this may worsen things. I was in a negative mental rut today. Also I hope this doesn&#039;t push me over the edge, as I believe I am depressed. Hopefully it&#039;ll be just like when I was younger.                                                     \n",
       "11  I have taken anti-depressants for years, with some improvement but mostly moderate to severe side affects, which makes me go off them.\\r\\n\\r\\nI only take Cymbalta now mostly for pain.\\r\\n\\r\\nWhen I began Deplin, I noticed a major improvement overnight. More energy, better disposition, and no sinking to the low lows of major depression. I have been taking it for about 3 months now and feel like a normal person for the first time ever. Best thing, no side effects.                                                                                                                                                                                                                                                                                                                                  \n",
       "14  Started Nexplanon 2 months ago because I have a minimal amount of contraception&#039;s I can take due to my inability to take the hormone that is used in most birth controls. I&#039;m trying to give it time because it is one of my only options right now. But honestly if I had options I&#039;d get it removed.\\r\\nI&#039;ve never had acne problems in my life, and immediately broke out after getting it implanted. Sex drive is completely gone, and I used to have sex with my boyfriend a few days a week, now its completely forced and not even fun for me anymore. I mean I&#039;m on birth control because I like having sex but don&#039;t want to get pregnant, why take a birth control that takes away sex? Very unhappy and hope that I get it back with time or I&#039;m getting it removed.  "
      ]
     },
     "execution_count": 17,
     "metadata": {},
     "output_type": "execute_result"
    }
   ],
   "source": [
    "X.head()"
   ]
  },
  {
   "cell_type": "markdown",
   "metadata": {},
   "source": [
    "### What are stopwords ?\n",
    "\n",
    "Stopwords are the most common words in any natural language. For the purpose of building NLP models, these stopwords might not add much value to the meaning of the document.\n",
    "\n",
    "The most common words used in a text are **“the”, “is”, “in”, “for”, “where”, “when”, “to”, “at”** etc."
   ]
  },
  {
   "cell_type": "code",
   "execution_count": 18,
   "metadata": {},
   "outputs": [],
   "source": [
    "from nltk.corpus import stopwords\n",
    "\n",
    "stop = stopwords.words('english')\n"
   ]
  },
  {
   "cell_type": "code",
   "execution_count": 19,
   "metadata": {},
   "outputs": [
    {
     "data": {
      "text/plain": [
       "['i',\n",
       " 'me',\n",
       " 'my',\n",
       " 'myself',\n",
       " 'we',\n",
       " 'our',\n",
       " 'ours',\n",
       " 'ourselves',\n",
       " 'you',\n",
       " \"you're\",\n",
       " \"you've\",\n",
       " \"you'll\",\n",
       " \"you'd\",\n",
       " 'your',\n",
       " 'yours',\n",
       " 'yourself',\n",
       " 'yourselves',\n",
       " 'he',\n",
       " 'him',\n",
       " 'his',\n",
       " 'himself',\n",
       " 'she',\n",
       " \"she's\",\n",
       " 'her',\n",
       " 'hers',\n",
       " 'herself',\n",
       " 'it',\n",
       " \"it's\",\n",
       " 'its',\n",
       " 'itself',\n",
       " 'they',\n",
       " 'them',\n",
       " 'their',\n",
       " 'theirs',\n",
       " 'themselves',\n",
       " 'what',\n",
       " 'which',\n",
       " 'who',\n",
       " 'whom',\n",
       " 'this',\n",
       " 'that',\n",
       " \"that'll\",\n",
       " 'these',\n",
       " 'those',\n",
       " 'am',\n",
       " 'is',\n",
       " 'are',\n",
       " 'was',\n",
       " 'were',\n",
       " 'be',\n",
       " 'been',\n",
       " 'being',\n",
       " 'have',\n",
       " 'has',\n",
       " 'had',\n",
       " 'having',\n",
       " 'do',\n",
       " 'does',\n",
       " 'did',\n",
       " 'doing',\n",
       " 'a',\n",
       " 'an',\n",
       " 'the',\n",
       " 'and',\n",
       " 'but',\n",
       " 'if',\n",
       " 'or',\n",
       " 'because',\n",
       " 'as',\n",
       " 'until',\n",
       " 'while',\n",
       " 'of',\n",
       " 'at',\n",
       " 'by',\n",
       " 'for',\n",
       " 'with',\n",
       " 'about',\n",
       " 'against',\n",
       " 'between',\n",
       " 'into',\n",
       " 'through',\n",
       " 'during',\n",
       " 'before',\n",
       " 'after',\n",
       " 'above',\n",
       " 'below',\n",
       " 'to',\n",
       " 'from',\n",
       " 'up',\n",
       " 'down',\n",
       " 'in',\n",
       " 'out',\n",
       " 'on',\n",
       " 'off',\n",
       " 'over',\n",
       " 'under',\n",
       " 'again',\n",
       " 'further',\n",
       " 'then',\n",
       " 'once',\n",
       " 'here',\n",
       " 'there',\n",
       " 'when',\n",
       " 'where',\n",
       " 'why',\n",
       " 'how',\n",
       " 'all',\n",
       " 'any',\n",
       " 'both',\n",
       " 'each',\n",
       " 'few',\n",
       " 'more',\n",
       " 'most',\n",
       " 'other',\n",
       " 'some',\n",
       " 'such',\n",
       " 'no',\n",
       " 'nor',\n",
       " 'not',\n",
       " 'only',\n",
       " 'own',\n",
       " 'same',\n",
       " 'so',\n",
       " 'than',\n",
       " 'too',\n",
       " 'very',\n",
       " 's',\n",
       " 't',\n",
       " 'can',\n",
       " 'will',\n",
       " 'just',\n",
       " 'don',\n",
       " \"don't\",\n",
       " 'should',\n",
       " \"should've\",\n",
       " 'now',\n",
       " 'd',\n",
       " 'll',\n",
       " 'm',\n",
       " 'o',\n",
       " 're',\n",
       " 've',\n",
       " 'y',\n",
       " 'ain',\n",
       " 'aren',\n",
       " \"aren't\",\n",
       " 'couldn',\n",
       " \"couldn't\",\n",
       " 'didn',\n",
       " \"didn't\",\n",
       " 'doesn',\n",
       " \"doesn't\",\n",
       " 'hadn',\n",
       " \"hadn't\",\n",
       " 'hasn',\n",
       " \"hasn't\",\n",
       " 'haven',\n",
       " \"haven't\",\n",
       " 'isn',\n",
       " \"isn't\",\n",
       " 'ma',\n",
       " 'mightn',\n",
       " \"mightn't\",\n",
       " 'mustn',\n",
       " \"mustn't\",\n",
       " 'needn',\n",
       " \"needn't\",\n",
       " 'shan',\n",
       " \"shan't\",\n",
       " 'shouldn',\n",
       " \"shouldn't\",\n",
       " 'wasn',\n",
       " \"wasn't\",\n",
       " 'weren',\n",
       " \"weren't\",\n",
       " 'won',\n",
       " \"won't\",\n",
       " 'wouldn',\n",
       " \"wouldn't\"]"
      ]
     },
     "execution_count": 19,
     "metadata": {},
     "output_type": "execute_result"
    }
   ],
   "source": [
    "stop"
   ]
  },
  {
   "cell_type": "markdown",
   "metadata": {},
   "source": [
    "## Lemmitization\n",
    "Lemmatization usually refers to doing things properly with the use of a vocabulary and morphological analysis of words, normally aiming to remove inflectional endings only and to return the base or dictionary form of a word, which is known as the lemma ."
   ]
  },
  {
   "cell_type": "markdown",
   "metadata": {},
   "source": [
    "from IPython.display import Image\n",
    "Image(filename='stem.JPG')"
   ]
  },
  {
   "cell_type": "code",
   "execution_count": 20,
   "metadata": {},
   "outputs": [],
   "source": [
    "from nltk.stem import WordNetLemmatizer\n",
    "from nltk.stem import PorterStemmer\n",
    "\n",
    "porter = PorterStemmer()\n",
    "\n",
    "lemmatizer = WordNetLemmatizer()"
   ]
  },
  {
   "cell_type": "code",
   "execution_count": 21,
   "metadata": {},
   "outputs": [
    {
     "name": "stdout",
     "output_type": "stream",
     "text": [
      "sportingli\n",
      "veri\n",
      "troubl\n"
     ]
    }
   ],
   "source": [
    "print(porter.stem(\"sportingly\"))\n",
    "print(porter.stem(\"very\"))\n",
    "print(porter.stem(\"troubled\"))"
   ]
  },
  {
   "cell_type": "code",
   "execution_count": 22,
   "metadata": {},
   "outputs": [
    {
     "name": "stdout",
     "output_type": "stream",
     "text": [
      "sportingly\n",
      "very\n",
      "troubled\n"
     ]
    }
   ],
   "source": [
    "print(lemmatizer.lemmatize(\"sportingly\"))\n",
    "print(lemmatizer.lemmatize(\"very\"))\n",
    "print(lemmatizer.lemmatize(\"troubled\"))"
   ]
  },
  {
   "cell_type": "code",
   "execution_count": 23,
   "metadata": {},
   "outputs": [],
   "source": [
    "from bs4 import BeautifulSoup\n",
    "import re"
   ]
  },
  {
   "cell_type": "code",
   "execution_count": 24,
   "metadata": {},
   "outputs": [],
   "source": [
    "def review_to_words(raw_review):\n",
    "    # 1. Delete HTML \n",
    "    review_text = BeautifulSoup(raw_review, 'html.parser').get_text()\n",
    "    # 2. Make a space\n",
    "    letters_only = re.sub('[^a-zA-Z]', ' ', review_text)\n",
    "    # 3. lower letters\n",
    "    words = letters_only.lower().split()\n",
    "    # 5. Stopwords \n",
    "    meaningful_words = [w for w in words if not w in stop]\n",
    "    # 6. lemmitization\n",
    "    lemmitize_words = [lemmatizer.lemmatize(w) for w in meaningful_words]\n",
    "    # 7. space join words\n",
    "    return( ' '.join(lemmitize_words))"
   ]
  },
  {
   "cell_type": "code",
   "execution_count": 25,
   "metadata": {},
   "outputs": [
    {
     "name": "stderr",
     "output_type": "stream",
     "text": [
      "C:\\Users\\Lenovo\\anaconda3\\lib\\site-packages\\bs4\\__init__.py:435: MarkupResemblesLocatorWarning: The input looks more like a filename than markup. You may want to open this file and pass the filehandle into Beautiful Soup.\n",
      "  warnings.warn(\n"
     ]
    }
   ],
   "source": [
    "X['review_clean'] = X['review'].apply(review_to_words)"
   ]
  },
  {
   "cell_type": "code",
   "execution_count": 26,
   "metadata": {},
   "outputs": [
    {
     "data": {
      "text/html": [
       "<div>\n",
       "<style scoped>\n",
       "    .dataframe tbody tr th:only-of-type {\n",
       "        vertical-align: middle;\n",
       "    }\n",
       "\n",
       "    .dataframe tbody tr th {\n",
       "        vertical-align: top;\n",
       "    }\n",
       "\n",
       "    .dataframe thead th {\n",
       "        text-align: right;\n",
       "    }\n",
       "</style>\n",
       "<table border=\"1\" class=\"dataframe\">\n",
       "  <thead>\n",
       "    <tr style=\"text-align: right;\">\n",
       "      <th></th>\n",
       "      <th>condition</th>\n",
       "      <th>review</th>\n",
       "      <th>review_clean</th>\n",
       "    </tr>\n",
       "  </thead>\n",
       "  <tbody>\n",
       "    <tr>\n",
       "      <th>2</th>\n",
       "      <td>Birth Control</td>\n",
       "      <td>I used to take another oral contraceptive, which had 21 pill cycle, and was very happy- very light periods, max 5 days, no other side effects. But it contained hormone gestodene, which is not available in US, so I switched to Lybrel, because the ingredients are similar. When my other pills ended, I started Lybrel immediately, on my first day of period, as the instructions said. And the period lasted for two weeks. When taking the second pack- same two weeks. And now, with third pack things got even worse- my third period lasted for two weeks and now it&amp;#039;s the end of the third week- I still have daily brown discharge.\\r\\nThe positive side is that I didn&amp;#039;t have any other side effects. The idea of being period free was so tempting... Alas.</td>\n",
       "      <td>used take another oral contraceptive pill cycle happy light period max day side effect contained hormone gestodene available u switched lybrel ingredient similar pill ended started lybrel immediately first day period instruction said period lasted two week taking second pack two week third pack thing got even worse third period lasted two week end third week still daily brown discharge positive side side effect idea period free tempting ala</td>\n",
       "    </tr>\n",
       "    <tr>\n",
       "      <th>3</th>\n",
       "      <td>Birth Control</td>\n",
       "      <td>This is my first time using any form of birth control. I&amp;#039;m glad I went with the patch, I have been on it for 8 months. At first It decreased my libido but that subsided. The only downside is that it made my periods longer (5-6 days to be exact) I used to only have periods for 3-4 days max also made my cramps intense for the first two days of my period, I never had cramps before using birth control. Other than that in happy with the patch</td>\n",
       "      <td>first time using form birth control glad went patch month first decreased libido subsided downside made period longer day exact used period day max also made cramp intense first two day period never cramp using birth control happy patch</td>\n",
       "    </tr>\n",
       "    <tr>\n",
       "      <th>9</th>\n",
       "      <td>Birth Control</td>\n",
       "      <td>I had been on the pill for many years. When my doctor changed my RX to chateal, it was as effective. It really did help me by completely clearing my acne, this takes about 6 months though. I did not gain extra weight, or develop any emotional health issues. I stopped taking it bc I started using a more natural method of birth control, but started to take it bc I hate that my acne came back at age 28. I really hope symptoms like depression, or weight gain do not begin to affect me as I am older now. I&amp;#039;m also naturally moody, so this may worsen things. I was in a negative mental rut today. Also I hope this doesn&amp;#039;t push me over the edge, as I believe I am depressed. Hopefully it&amp;#039;ll be just like when I was younger.</td>\n",
       "      <td>pill many year doctor changed rx chateal effective really help completely clearing acne take month though gain extra weight develop emotional health issue stopped taking bc started using natural method birth control started take bc hate acne came back age really hope symptom like depression weight gain begin affect older also naturally moody may worsen thing negative mental rut today also hope push edge believe depressed hopefully like younger</td>\n",
       "    </tr>\n",
       "    <tr>\n",
       "      <th>11</th>\n",
       "      <td>Depression</td>\n",
       "      <td>I have taken anti-depressants for years, with some improvement but mostly moderate to severe side affects, which makes me go off them.\\r\\n\\r\\nI only take Cymbalta now mostly for pain.\\r\\n\\r\\nWhen I began Deplin, I noticed a major improvement overnight. More energy, better disposition, and no sinking to the low lows of major depression. I have been taking it for about 3 months now and feel like a normal person for the first time ever. Best thing, no side effects.</td>\n",
       "      <td>taken anti depressant year improvement mostly moderate severe side affect make go take cymbalta mostly pain began deplin noticed major improvement overnight energy better disposition sinking low low major depression taking month feel like normal person first time ever best thing side effect</td>\n",
       "    </tr>\n",
       "    <tr>\n",
       "      <th>14</th>\n",
       "      <td>Birth Control</td>\n",
       "      <td>Started Nexplanon 2 months ago because I have a minimal amount of contraception&amp;#039;s I can take due to my inability to take the hormone that is used in most birth controls. I&amp;#039;m trying to give it time because it is one of my only options right now. But honestly if I had options I&amp;#039;d get it removed.\\r\\nI&amp;#039;ve never had acne problems in my life, and immediately broke out after getting it implanted. Sex drive is completely gone, and I used to have sex with my boyfriend a few days a week, now its completely forced and not even fun for me anymore. I mean I&amp;#039;m on birth control because I like having sex but don&amp;#039;t want to get pregnant, why take a birth control that takes away sex? Very unhappy and hope that I get it back with time or I&amp;#039;m getting it removed.</td>\n",
       "      <td>started nexplanon month ago minimal amount contraception take due inability take hormone used birth control trying give time one option right honestly option get removed never acne problem life immediately broke getting implanted sex drive completely gone used sex boyfriend day week completely forced even fun anymore mean birth control like sex want get pregnant take birth control take away sex unhappy hope get back time getting removed</td>\n",
       "    </tr>\n",
       "  </tbody>\n",
       "</table>\n",
       "</div>"
      ],
      "text/plain": [
       "        condition  \\\n",
       "2   Birth Control   \n",
       "3   Birth Control   \n",
       "9   Birth Control   \n",
       "11  Depression      \n",
       "14  Birth Control   \n",
       "\n",
       "                                                                                                                                                                                                                                                                                                                                                                                                                                                                                                                                                                                                                                                                                                                                                                                                                review  \\\n",
       "2   I used to take another oral contraceptive, which had 21 pill cycle, and was very happy- very light periods, max 5 days, no other side effects. But it contained hormone gestodene, which is not available in US, so I switched to Lybrel, because the ingredients are similar. When my other pills ended, I started Lybrel immediately, on my first day of period, as the instructions said. And the period lasted for two weeks. When taking the second pack- same two weeks. And now, with third pack things got even worse- my third period lasted for two weeks and now it&#039;s the end of the third week- I still have daily brown discharge.\\r\\nThe positive side is that I didn&#039;t have any other side effects. The idea of being period free was so tempting... Alas.                                  \n",
       "3   This is my first time using any form of birth control. I&#039;m glad I went with the patch, I have been on it for 8 months. At first It decreased my libido but that subsided. The only downside is that it made my periods longer (5-6 days to be exact) I used to only have periods for 3-4 days max also made my cramps intense for the first two days of my period, I never had cramps before using birth control. Other than that in happy with the patch                                                                                                                                                                                                                                                                                                                                                       \n",
       "9   I had been on the pill for many years. When my doctor changed my RX to chateal, it was as effective. It really did help me by completely clearing my acne, this takes about 6 months though. I did not gain extra weight, or develop any emotional health issues. I stopped taking it bc I started using a more natural method of birth control, but started to take it bc I hate that my acne came back at age 28. I really hope symptoms like depression, or weight gain do not begin to affect me as I am older now. I&#039;m also naturally moody, so this may worsen things. I was in a negative mental rut today. Also I hope this doesn&#039;t push me over the edge, as I believe I am depressed. Hopefully it&#039;ll be just like when I was younger.                                                      \n",
       "11  I have taken anti-depressants for years, with some improvement but mostly moderate to severe side affects, which makes me go off them.\\r\\n\\r\\nI only take Cymbalta now mostly for pain.\\r\\n\\r\\nWhen I began Deplin, I noticed a major improvement overnight. More energy, better disposition, and no sinking to the low lows of major depression. I have been taking it for about 3 months now and feel like a normal person for the first time ever. Best thing, no side effects.                                                                                                                                                                                                                                                                                                                                   \n",
       "14  Started Nexplanon 2 months ago because I have a minimal amount of contraception&#039;s I can take due to my inability to take the hormone that is used in most birth controls. I&#039;m trying to give it time because it is one of my only options right now. But honestly if I had options I&#039;d get it removed.\\r\\nI&#039;ve never had acne problems in my life, and immediately broke out after getting it implanted. Sex drive is completely gone, and I used to have sex with my boyfriend a few days a week, now its completely forced and not even fun for me anymore. I mean I&#039;m on birth control because I like having sex but don&#039;t want to get pregnant, why take a birth control that takes away sex? Very unhappy and hope that I get it back with time or I&#039;m getting it removed.   \n",
       "\n",
       "                                                                                                                                                                                                                                                                                                                                                                                                                                                       review_clean  \n",
       "2   used take another oral contraceptive pill cycle happy light period max day side effect contained hormone gestodene available u switched lybrel ingredient similar pill ended started lybrel immediately first day period instruction said period lasted two week taking second pack two week third pack thing got even worse third period lasted two week end third week still daily brown discharge positive side side effect idea period free tempting ala     \n",
       "3   first time using form birth control glad went patch month first decreased libido subsided downside made period longer day exact used period day max also made cramp intense first two day period never cramp using birth control happy patch                                                                                                                                                                                                                     \n",
       "9   pill many year doctor changed rx chateal effective really help completely clearing acne take month though gain extra weight develop emotional health issue stopped taking bc started using natural method birth control started take bc hate acne came back age really hope symptom like depression weight gain begin affect older also naturally moody may worsen thing negative mental rut today also hope push edge believe depressed hopefully like younger  \n",
       "11  taken anti depressant year improvement mostly moderate severe side affect make go take cymbalta mostly pain began deplin noticed major improvement overnight energy better disposition sinking low low major depression taking month feel like normal person first time ever best thing side effect                                                                                                                                                              \n",
       "14  started nexplanon month ago minimal amount contraception take due inability take hormone used birth control trying give time one option right honestly option get removed never acne problem life immediately broke getting implanted sex drive completely gone used sex boyfriend day week completely forced even fun anymore mean birth control like sex want get pregnant take birth control take away sex unhappy hope get back time getting removed         "
      ]
     },
     "execution_count": 26,
     "metadata": {},
     "output_type": "execute_result"
    }
   ],
   "source": [
    "X.head()"
   ]
  },
  {
   "cell_type": "markdown",
   "metadata": {},
   "source": [
    "## Creating features and Target Variable"
   ]
  },
  {
   "cell_type": "code",
   "execution_count": 27,
   "metadata": {},
   "outputs": [],
   "source": [
    "X_feat=X['review_clean']\n",
    "y=X['condition']"
   ]
  },
  {
   "cell_type": "code",
   "execution_count": 28,
   "metadata": {},
   "outputs": [],
   "source": [
    "X_train, X_test, y_train, y_test = train_test_split(X_feat, y,stratify=y,test_size=0.2, random_state=0)"
   ]
  },
  {
   "cell_type": "code",
   "execution_count": 29,
   "metadata": {},
   "outputs": [],
   "source": [
    "def plot_confusion_matrix(cm, classes,\n",
    "                          normalize=False,\n",
    "                          title='Confusion matrix',\n",
    "                          cmap=plt.cm.Blues):\n",
    "    \"\"\"\n",
    "    See full source and example: \n",
    "    http://scikit-learn.org/stable/auto_examples/model_selection/plot_confusion_matrix.html\n",
    "    \n",
    "    This function prints and plots the confusion matrix.\n",
    "    Normalization can be applied by setting `normalize=True`.\n",
    "    \"\"\"\n",
    "    plt.imshow(cm, interpolation='nearest', cmap=cmap)\n",
    "    plt.title(title)\n",
    "    plt.colorbar()\n",
    "    tick_marks = np.arange(len(classes))\n",
    "    plt.xticks(tick_marks, classes, rotation=45)\n",
    "    plt.yticks(tick_marks, classes)\n",
    "\n",
    "    if normalize:\n",
    "        cm = cm.astype('float') / cm.sum(axis=1)[:, np.newaxis]\n",
    "        print(\"Normalized confusion matrix\")\n",
    "    else:\n",
    "        print('Confusion matrix, without normalization')\n",
    "\n",
    "    thresh = cm.max() / 2.\n",
    "    for i, j in itertools.product(range(cm.shape[0]), range(cm.shape[1])):\n",
    "        plt.text(j, i, cm[i, j],\n",
    "                 horizontalalignment=\"center\",\n",
    "                 color=\"white\" if cm[i, j] > thresh else \"black\")\n",
    "\n",
    "    plt.tight_layout()\n",
    "    plt.ylabel('True label')\n",
    "    plt.xlabel('Predicted label')"
   ]
  },
  {
   "cell_type": "markdown",
   "metadata": {},
   "source": [
    "### Bag of Words"
   ]
  },
  {
   "cell_type": "code",
   "execution_count": 30,
   "metadata": {},
   "outputs": [],
   "source": [
    "count_vectorizer = CountVectorizer(stop_words='english')\n",
    "\n",
    "count_train = count_vectorizer.fit_transform(X_train)\n",
    "\n",
    "count_test = count_vectorizer.transform(X_test)"
   ]
  },
  {
   "cell_type": "code",
   "execution_count": 31,
   "metadata": {},
   "outputs": [
    {
     "data": {
      "text/plain": [
       "<34185x15995 sparse matrix of type '<class 'numpy.int64'>'\n",
       "\twith 1092752 stored elements in Compressed Sparse Row format>"
      ]
     },
     "execution_count": 31,
     "metadata": {},
     "output_type": "execute_result"
    }
   ],
   "source": [
    "count_train"
   ]
  },
  {
   "cell_type": "markdown",
   "metadata": {},
   "source": [
    "## Machine Learning Model : Naive Bayes"
   ]
  },
  {
   "cell_type": "code",
   "execution_count": 32,
   "metadata": {},
   "outputs": [
    {
     "name": "stdout",
     "output_type": "stream",
     "text": [
      "accuracy:   0.970\n",
      "Confusion matrix, without normalization\n"
     ]
    },
    {
     "data": {
      "image/png": "[encoded data removed]",
      "text/plain": [
       "<Figure size 432x288 with 2 Axes>"
      ]
     },
     "metadata": {
      "needs_background": "light"
     },
     "output_type": "display_data"
    }
   ],
   "source": [
    "mnb = MultinomialNB()\n",
    "mnb.fit(count_train, y_train)\n",
    "pred = mnb.predict(count_test)\n",
    "score = metrics.accuracy_score(y_test, pred)\n",
    "print(\"accuracy:   %0.3f\" % score)\n",
    "\n",
    "cm = metrics.confusion_matrix(y_test, pred, labels=['Birth Control', 'Depression','Diabetes, Type 2','High Blood Pressure'])\n",
    "plot_confusion_matrix(cm, classes=['Birth Control', 'Depression','Diabetes, Type 2','High Blood Pressure'])"
   ]
  },
  {
   "cell_type": "markdown",
   "metadata": {},
   "source": [
    "## Machine Learning Model : Passive Aggressive Classifier"
   ]
  },
  {
   "cell_type": "code",
   "execution_count": 46,
   "metadata": {},
   "outputs": [
    {
     "name": "stdout",
     "output_type": "stream",
     "text": [
      "accuracy:   0.978\n",
      "Confusion matrix, without normalization\n"
     ]
    },
    {
     "data": {
      "image/png": "[encoded data removed]",
      "text/plain": [
       "<Figure size 432x288 with 2 Axes>"
      ]
     },
     "metadata": {
      "needs_background": "light"
     },
     "output_type": "display_data"
    }
   ],
   "source": [
    "from sklearn.linear_model import PassiveAggressiveClassifier,LogisticRegression\n",
    "\n",
    "passive = PassiveAggressiveClassifier()\n",
    "passive.fit(count_train, y_train)\n",
    "pred = passive.predict(count_test)\n",
    "score = metrics.accuracy_score(y_test, pred)\n",
    "print(\"accuracy:   %0.3f\" % score)\n",
    "cm = metrics.confusion_matrix(y_test, pred, labels=['Birth Control', 'Depression','Diabetes, Type 2','High Blood Pressure'])\n",
    "plot_confusion_matrix(cm, classes=['Birth Control', 'Depression','Diabetes, Type 2','High Blood Pressure'])"
   ]
  },
  {
   "cell_type": "markdown",
   "metadata": {},
   "source": [
    "### TFIDF"
   ]
  },
  {
   "cell_type": "code",
   "execution_count": 34,
   "metadata": {},
   "outputs": [],
   "source": [
    "from sklearn.feature_extraction.text import TfidfVectorizer\n",
    "\n",
    "tfidf_vectorizer = TfidfVectorizer(stop_words='english', max_df=0.8)\n",
    "tfidf_train_2 = tfidf_vectorizer.fit_transform(X_train)\n",
    "tfidf_test_2 = tfidf_vectorizer.transform(X_test)"
   ]
  },
  {
   "cell_type": "markdown",
   "metadata": {},
   "source": [
    "## Machine Learning Model : Naive Bayes"
   ]
  },
  {
   "cell_type": "code",
   "execution_count": 35,
   "metadata": {},
   "outputs": [
    {
     "name": "stdout",
     "output_type": "stream",
     "text": [
      "accuracy:   0.921\n",
      "Confusion matrix, without normalization\n"
     ]
    },
    {
     "data": {
      "image/png": "[encoded data removed]",
      "text/plain": [
       "<Figure size 432x288 with 2 Axes>"
      ]
     },
     "metadata": {
      "needs_background": "light"
     },
     "output_type": "display_data"
    }
   ],
   "source": [
    "mnb_tf = MultinomialNB()\n",
    "mnb_tf.fit(tfidf_train_2, y_train)\n",
    "pred = mnb_tf.predict(tfidf_test_2)\n",
    "score = metrics.accuracy_score(y_test, pred)\n",
    "print(\"accuracy:   %0.3f\" % score)\n",
    "cm = metrics.confusion_matrix(y_test, pred, labels=['Birth Control', 'Depression','Diabetes, Type 2','High Blood Pressure'])\n",
    "plot_confusion_matrix(cm, classes=['Birth Control', 'Depression','Diabetes, Type 2','High Blood Pressure'])"
   ]
  },
  {
   "cell_type": "markdown",
   "metadata": {},
   "source": [
    "## Machine Learning Model TFIDF"
   ]
  },
  {
   "cell_type": "code",
   "execution_count": 57,
   "metadata": {},
   "outputs": [
    {
     "name": "stdout",
     "output_type": "stream",
     "text": [
      "accuracy:   0.982\n",
      "Confusion matrix, without normalization\n"
     ]
    },
    {
     "data": {
      "image/png": "[encoded data removed]",
      "text/plain": [
       "<Figure size 432x288 with 2 Axes>"
      ]
     },
     "metadata": {
      "needs_background": "light"
     },
     "output_type": "display_data"
    }
   ],
   "source": [
    "tfidf_vectorizer = TfidfVectorizer(stop_words='english', max_df=0.8)\n",
    "tfidf_train = tfidf_vectorizer.fit_transform(X_train)\n",
    "tfidf_test = tfidf_vectorizer.transform(X_test)\n",
    "\n",
    "pass_tf = PassiveAggressiveClassifier()\n",
    "pass_tf.fit(tfidf_train, y_train)\n",
    "pred = pass_tf.predict(tfidf_test)\n",
    "score = metrics.accuracy_score(y_test, pred)\n",
    "print(\"accuracy:   %0.3f\" % score)\n",
    "cm = metrics.confusion_matrix(y_test, pred, labels=['Birth Control', 'Depression','Diabetes, Type 2','High Blood Pressure'])\n",
    "plot_confusion_matrix(cm, classes=['Birth Control', 'Depression','Diabetes, Type 2','High Blood Pressure'])\n"
   ]
  },
  {
   "cell_type": "markdown",
   "metadata": {},
   "source": [
    "## TFIDF: Bigrams"
   ]
  },
  {
   "cell_type": "code",
   "execution_count": 37,
   "metadata": {},
   "outputs": [],
   "source": [
    "tfidf_vectorizer2 = TfidfVectorizer(stop_words='english', max_df=0.8, ngram_range=(1,2))\n",
    "tfidf_train_2 = tfidf_vectorizer2.fit_transform(X_train)\n",
    "tfidf_test_2 = tfidf_vectorizer2.transform(X_test)"
   ]
  },
  {
   "cell_type": "code",
   "execution_count": 38,
   "metadata": {},
   "outputs": [
    {
     "name": "stdout",
     "output_type": "stream",
     "text": [
      "accuracy:   0.986\n",
      "Confusion matrix, without normalization\n"
     ]
    },
    {
     "data": {
      "image/png": "[encoded data removed]",
      "text/plain": [
       "<Figure size 432x288 with 2 Axes>"
      ]
     },
     "metadata": {
      "needs_background": "light"
     },
     "output_type": "display_data"
    }
   ],
   "source": [
    "pass_tf = PassiveAggressiveClassifier()\n",
    "pass_tf.fit(tfidf_train_2, y_train)\n",
    "pred = pass_tf.predict(tfidf_test_2)\n",
    "score = metrics.accuracy_score(y_test, pred)\n",
    "print(\"accuracy:   %0.3f\" % score)\n",
    "cm = metrics.confusion_matrix(y_test, pred, labels=['Birth Control', 'Depression','Diabetes, Type 2','High Blood Pressure'])\n",
    "plot_confusion_matrix(cm, classes=['Birth Control', 'Depression','Diabetes, Type 2','High Blood Pressure'])"
   ]
  },
  {
   "cell_type": "markdown",
   "metadata": {},
   "source": [
    "## TFIDF : Trigrams"
   ]
  },
  {
   "cell_type": "code",
   "execution_count": 60,
   "metadata": {},
   "outputs": [
    {
     "name": "stdout",
     "output_type": "stream",
     "text": [
      "accuracy:   0.986\n",
      "Confusion matrix, without normalization\n"
     ]
    },
    {
     "data": {
      "image/png": "[encoded data removed]",
      "text/plain": [
       "<Figure size 432x288 with 2 Axes>"
      ]
     },
     "metadata": {
      "needs_background": "light"
     },
     "output_type": "display_data"
    }
   ],
   "source": [
    "tfidf_vectorizer3 = TfidfVectorizer(stop_words='english', max_df=0.8, ngram_range=(1,3))\n",
    "tfidf_train_3 = tfidf_vectorizer3.fit_transform(X_train)\n",
    "tfidf_test_3 = tfidf_vectorizer3.transform(X_test)\n",
    "\n",
    "pass_tf = PassiveAggressiveClassifier()\n",
    "pass_tf.fit(tfidf_train_3, y_train)\n",
    "pred = pass_tf.predict(tfidf_test_3)\n",
    "score = metrics.accuracy_score(y_test, pred)\n",
    "print(\"accuracy:   %0.3f\" % score)\n",
    "cm = metrics.confusion_matrix(y_test, pred, labels=['Birth Control', 'Depression','Diabetes, Type 2','High Blood Pressure'])\n",
    "plot_confusion_matrix(cm, classes=['Birth Control', 'Depression','Diabetes, Type 2','High Blood Pressure'])"
   ]
  },
  {
   "cell_type": "markdown",
   "metadata": {},
   "source": [
    "## Most important Features"
   ]
  },
  {
   "cell_type": "code",
   "execution_count": 40,
   "metadata": {},
   "outputs": [
    {
     "name": "stdout",
     "output_type": "stream",
     "text": [
      "Birth Control tricylcen 0.5109020620813158\n",
      "Birth Control correct 0.5400542465212312\n",
      "Birth Control ridicuouls 0.5543787321007871\n",
      "Birth Control normalizing 0.5677026516560586\n",
      "Birth Control aesthetician 0.5939364338261512\n",
      "Birth Control normalizes 0.6268900518476977\n",
      "Birth Control addon 0.6472838328782737\n",
      "Birth Control tiny 0.7491745314484342\n",
      "Birth Control commit 1.309428185440036\n",
      "Birth Control freeway 6.986656645519632\n"
     ]
    },
    {
     "name": "stderr",
     "output_type": "stream",
     "text": [
      "C:\\Users\\Lenovo\\anaconda3\\lib\\site-packages\\sklearn\\utils\\deprecation.py:87: FutureWarning: Function get_feature_names is deprecated; get_feature_names is deprecated in 1.0 and will be removed in 1.2. Please use get_feature_names_out instead.\n",
      "  warnings.warn(msg, category=FutureWarning)\n"
     ]
    }
   ],
   "source": [
    "def most_informative_feature_for_class(vectorizer, classifier, classlabel, n=10):\n",
    "    labelid = list(classifier.classes_).index(classlabel)\n",
    "    feature_names = vectorizer.get_feature_names()\n",
    "    topn = sorted(zip(classifier.coef_[labelid], feature_names))[-n:]\n",
    "\n",
    "    for coef, feat in topn:\n",
    "        print (classlabel, feat, coef)\n",
    "\n",
    "\n",
    "\n",
    "most_informative_feature_for_class(tfidf_vectorizer, pass_tf, 'Birth Control')"
   ]
  },
  {
   "cell_type": "code",
   "execution_count": 41,
   "metadata": {},
   "outputs": [
    {
     "name": "stdout",
     "output_type": "stream",
     "text": [
      "Depression therefor 0.5009811782435757\n",
      "Depression sink 0.5442549491014983\n",
      "Depression sinnce 0.6161683485505356\n",
      "Depression develope 0.6194077892073196\n",
      "Depression strung 0.6780274099210082\n",
      "Depression assaulted 1.0265277627716236\n",
      "Depression significantly 1.0565208809423619\n",
      "Depression subjective 1.11264491424077\n",
      "Depression apnea 1.2400483080051916\n",
      "Depression aliveness 3.818276721094807\n"
     ]
    }
   ],
   "source": [
    "most_informative_feature_for_class(tfidf_vectorizer, pass_tf, 'Depression')"
   ]
  },
  {
   "cell_type": "code",
   "execution_count": 42,
   "metadata": {},
   "outputs": [
    {
     "name": "stdout",
     "output_type": "stream",
     "text": [
      "High Blood Pressure folic 0.5312323298579963\n",
      "High Blood Pressure fatter 0.5363914419528599\n",
      "High Blood Pressure fattest 0.5363914419528599\n",
      "High Blood Pressure end 0.577059896200902\n",
      "High Blood Pressure fluctuation 0.6069982854933857\n",
      "High Blood Pressure barley 0.6096225044232402\n",
      "High Blood Pressure encouraged 0.6210556455963072\n",
      "High Blood Pressure enforcement 0.6606846580009699\n",
      "High Blood Pressure shine 0.7428943720271488\n",
      "High Blood Pressure folk 1.0476325939405584\n"
     ]
    }
   ],
   "source": [
    "most_informative_feature_for_class(tfidf_vectorizer, pass_tf, 'High Blood Pressure')"
   ]
  },
  {
   "cell_type": "code",
   "execution_count": 43,
   "metadata": {},
   "outputs": [
    {
     "name": "stdout",
     "output_type": "stream",
     "text": [
      "Diabetes, Type 2 absorbs 0.3647907297953549\n",
      "Diabetes, Type 2 oxicotin 0.3686176844171789\n",
      "Diabetes, Type 2 addon 0.37980586708668984\n",
      "Diabetes, Type 2 vastly 0.3847513660376672\n",
      "Diabetes, Type 2 prom 0.4646564074035801\n",
      "Diabetes, Type 2 base 0.4991670199074284\n",
      "Diabetes, Type 2 orthotricyclenlo 0.7074248530991729\n",
      "Diabetes, Type 2 proliferating 0.7162048041514303\n",
      "Diabetes, Type 2 fot 0.7973358848451465\n",
      "Diabetes, Type 2 problem 2.7658276217498208\n"
     ]
    }
   ],
   "source": [
    "most_informative_feature_for_class(tfidf_vectorizer, pass_tf, 'Diabetes, Type 2')"
   ]
  },
  {
   "cell_type": "markdown",
   "metadata": {},
   "source": [
    "## Sample Predictions"
   ]
  },
  {
   "cell_type": "code",
   "execution_count": 44,
   "metadata": {},
   "outputs": [
    {
     "data": {
      "text/html": [
       "<div>\n",
       "<style scoped>\n",
       "    .dataframe tbody tr th:only-of-type {\n",
       "        vertical-align: middle;\n",
       "    }\n",
       "\n",
       "    .dataframe tbody tr th {\n",
       "        vertical-align: top;\n",
       "    }\n",
       "\n",
       "    .dataframe thead th {\n",
       "        text-align: right;\n",
       "    }\n",
       "</style>\n",
       "<table border=\"1\" class=\"dataframe\">\n",
       "  <thead>\n",
       "    <tr style=\"text-align: right;\">\n",
       "      <th></th>\n",
       "      <th>condition</th>\n",
       "      <th>review</th>\n",
       "      <th>review_clean</th>\n",
       "    </tr>\n",
       "  </thead>\n",
       "  <tbody>\n",
       "    <tr>\n",
       "      <th>161273</th>\n",
       "      <td>Birth Control</td>\n",
       "      <td>I have had the Nexplanon since Dec. 27, 2016 \\r\\r\\nI got my first period at the end of January and it lasted about a month and a half. In March of 2017 I didn&amp;#039;t bleed for close to three weeks and then started bleeding again March 28th and have been bleeding every since. I have gained about 13 lbs so far since getting the birth control. Although for now the weight gain isn&amp;#039;t a deal breaker for me but the bleeding is..  I am trying to be very patient to see how my body adjusts to the implant. It has been three months so far and I have my fingers crossed that my cycle will go away for awhile.</td>\n",
       "      <td>nexplanon since dec got first period end january lasted month half march bleed close three week started bleeding march th bleeding every since gained lb far since getting birth control although weight gain deal breaker bleeding trying patient see body adjusts implant three month far finger crossed cycle go away awhile</td>\n",
       "    </tr>\n",
       "    <tr>\n",
       "      <th>161278</th>\n",
       "      <td>Diabetes, Type 2</td>\n",
       "      <td>I just got diagnosed with type 2. My doctor prescribed Invokana and metformin from the beginning. My sugars went down to normal by the second week. I  am losing so much weight. No side effects yet. Miracle medicine for me</td>\n",
       "      <td>got diagnosed type doctor prescribed invokana metformin beginning sugar went normal second week losing much weight side effect yet miracle medicine</td>\n",
       "    </tr>\n",
       "    <tr>\n",
       "      <th>161286</th>\n",
       "      <td>Depression</td>\n",
       "      <td>This is the third med I&amp;#039;ve tried for anxiety and mild depression. Been on it for a week and I hate it so much. I am so dizzy, I have major diarrhea and feel worse than I started. Contacting my doc in the am  and changing asap.</td>\n",
       "      <td>third med tried anxiety mild depression week hate much dizzy major diarrhea feel worse started contacting doc changing asap</td>\n",
       "    </tr>\n",
       "    <tr>\n",
       "      <th>161290</th>\n",
       "      <td>High Blood Pressure</td>\n",
       "      <td>I have only been on Tekturna for 9 days. The effect was immediate. I am also on a calcium channel blocker (Tiazac) and hydrochlorothiazide. I was put on Tekturna because of palpitations experienced with Diovan (ugly drug in my opinion, same company produces both however). The palpitations were pretty bad on Diovan, 24 hour monitor by EKG etc. After a few days of substituting Tekturna for Diovan, there are no more palpitations.</td>\n",
       "      <td>tekturna day effect immediate also calcium channel blocker tiazac hydrochlorothiazide put tekturna palpitation experienced diovan ugly drug opinion company produce however palpitation pretty bad diovan hour monitor ekg etc day substituting tekturna diovan palpitation</td>\n",
       "    </tr>\n",
       "    <tr>\n",
       "      <th>161291</th>\n",
       "      <td>Birth Control</td>\n",
       "      <td>This would be my second month on Junel. I&amp;#039;ve been on Birth Control for about 10 years now. I changed due to spotting and increased mood swings with my previous birth control. Since the switch I have had shorter periods about 2-3 days, but I have gained major weight and increased appetite. I switched up my regular exercise routine and still have not managed to drop the extra 7 lbs ;(</td>\n",
       "      <td>would second month junel birth control year changed due spotting increased mood swing previous birth control since switch shorter period day gained major weight increased appetite switched regular exercise routine still managed drop extra lb</td>\n",
       "    </tr>\n",
       "  </tbody>\n",
       "</table>\n",
       "</div>"
      ],
      "text/plain": [
       "                  condition  \\\n",
       "161273  Birth Control         \n",
       "161278  Diabetes, Type 2      \n",
       "161286  Depression            \n",
       "161290  High Blood Pressure   \n",
       "161291  Birth Control         \n",
       "\n",
       "                                                                                                                                                                                                                                                                                                                                                                                                                                                                                                                                                                                                                                review  \\\n",
       "161273  I have had the Nexplanon since Dec. 27, 2016 \\r\\r\\nI got my first period at the end of January and it lasted about a month and a half. In March of 2017 I didn&#039;t bleed for close to three weeks and then started bleeding again March 28th and have been bleeding every since. I have gained about 13 lbs so far since getting the birth control. Although for now the weight gain isn&#039;t a deal breaker for me but the bleeding is..  I am trying to be very patient to see how my body adjusts to the implant. It has been three months so far and I have my fingers crossed that my cycle will go away for awhile.   \n",
       "161278  I just got diagnosed with type 2. My doctor prescribed Invokana and metformin from the beginning. My sugars went down to normal by the second week. I  am losing so much weight. No side effects yet. Miracle medicine for me                                                                                                                                                                                                                                                                                                                                                                                                    \n",
       "161286  This is the third med I&#039;ve tried for anxiety and mild depression. Been on it for a week and I hate it so much. I am so dizzy, I have major diarrhea and feel worse than I started. Contacting my doc in the am  and changing asap.                                                                                                                                                                                                                                                                                                                                                                                          \n",
       "161290  I have only been on Tekturna for 9 days. The effect was immediate. I am also on a calcium channel blocker (Tiazac) and hydrochlorothiazide. I was put on Tekturna because of palpitations experienced with Diovan (ugly drug in my opinion, same company produces both however). The palpitations were pretty bad on Diovan, 24 hour monitor by EKG etc. After a few days of substituting Tekturna for Diovan, there are no more palpitations.                                                                                                                                                                                   \n",
       "161291  This would be my second month on Junel. I&#039;ve been on Birth Control for about 10 years now. I changed due to spotting and increased mood swings with my previous birth control. Since the switch I have had shorter periods about 2-3 days, but I have gained major weight and increased appetite. I switched up my regular exercise routine and still have not managed to drop the extra 7 lbs ;(                                                                                                                                                                                                                           \n",
       "\n",
       "                                                                                                                                                                                                                                                                                                                           review_clean  \n",
       "161273  nexplanon since dec got first period end january lasted month half march bleed close three week started bleeding march th bleeding every since gained lb far since getting birth control although weight gain deal breaker bleeding trying patient see body adjusts implant three month far finger crossed cycle go away awhile  \n",
       "161278  got diagnosed type doctor prescribed invokana metformin beginning sugar went normal second week losing much weight side effect yet miracle medicine                                                                                                                                                                              \n",
       "161286  third med tried anxiety mild depression week hate much dizzy major diarrhea feel worse started contacting doc changing asap                                                                                                                                                                                                      \n",
       "161290  tekturna day effect immediate also calcium channel blocker tiazac hydrochlorothiazide put tekturna palpitation experienced diovan ugly drug opinion company produce however palpitation pretty bad diovan hour monitor ekg etc day substituting tekturna diovan palpitation                                                      \n",
       "161291  would second month junel birth control year changed due spotting increased mood swing previous birth control since switch shorter period day gained major weight increased appetite switched regular exercise routine still managed drop extra lb                                                                                "
      ]
     },
     "execution_count": 44,
     "metadata": {},
     "output_type": "execute_result"
    }
   ],
   "source": [
    "X.tail()"
   ]
  },
  {
   "cell_type": "code",
   "execution_count": null,
   "metadata": {},
   "outputs": [],
   "source": []
  },
  {
   "cell_type": "code",
   "execution_count": 49,
   "metadata": {},
   "outputs": [
    {
     "data": {
      "text/plain": [
       "'High Blood Pressure'"
      ]
     },
     "execution_count": 49,
     "metadata": {},
     "output_type": "execute_result"
    }
   ],
   "source": [
    "text =[\"I have only been on Tekturna for 9 days. The effect was immediate. I am also on a calcium channel blocker (Tiazac) and hydrochlorothiazide. I was put on Tekturna because of palpitations experienced with Diovan (ugly drug in my opinion, same company produces both however). The palpitations were pretty bad on Diovan, 24 hour monitor by EKG etc. After a few days of substituting Tekturna for Diovan, there are no more palpitations.\"]\n",
    "test = tfidf_vectorizer.transform(text)\n",
    "pred1=pass_tf.predict(test)[0]\n",
    "pred1"
   ]
  },
  {
   "cell_type": "code",
   "execution_count": 50,
   "metadata": {},
   "outputs": [
    {
     "data": {
      "text/plain": [
       "'Depression'"
      ]
     },
     "execution_count": 50,
     "metadata": {},
     "output_type": "execute_result"
    }
   ],
   "source": [
    "text =[\"This is the third med I&#039;ve tried for anxiety and mild depression. Been on it for a week and I hate it so much. I am so dizzy, I have major diarrhea and feel worse than I started. Contacting my doc in the am and changing asap.\"]\n",
    "test = tfidf_vectorizer.transform(text)\n",
    "pred1=pass_tf.predict(test)[0]\n",
    "pred1"
   ]
  },
  {
   "cell_type": "code",
   "execution_count": 51,
   "metadata": {},
   "outputs": [
    {
     "data": {
      "text/plain": [
       "'Diabetes, Type 2'"
      ]
     },
     "execution_count": 51,
     "metadata": {},
     "output_type": "execute_result"
    }
   ],
   "source": [
    "text =[\"I just got diagnosed with type 2. My doctor prescribed Invokana and metformin from the beginning. My sugars went down to normal by the second week. I am losing so much weight. No side effects yet. Miracle medicine for me\"]\n",
    "test = tfidf_vectorizer.transform(text)\n",
    "pred1=pass_tf.predict(test)[0]\n",
    "pred1"
   ]
  },
  {
   "cell_type": "code",
   "execution_count": 52,
   "metadata": {},
   "outputs": [],
   "source": [
    "## Function for Extracting Top drugs\n",
    "\n",
    "def top_drugs_extractor(condition):\n",
    "    df_top = df[(df['rating']>=9)&(df['usefulCount']>=100)].sort_values(by = ['rating', 'usefulCount'], ascending = [False, False])\n",
    "    drug_lst = df_top[df_top['condition']==condition]['drugName'].head(3).tolist()\n",
    "    return drug_lst"
   ]
  },
  {
   "cell_type": "code",
   "execution_count": 53,
   "metadata": {},
   "outputs": [],
   "source": [
    "def predict_text(lst_text):\n",
    "    df_test = pd.DataFrame(lst_text, columns = ['test_sent'])\n",
    "    df_test[\"test_sent\"] = df_test[\"test_sent\"].apply(review_to_words)\n",
    "    tfidf_bigram = tfidf_vectorizer3.transform(lst_text)\n",
    "    prediction = pass_tf.predict(tfidf_bigram)\n",
    "    df_test['prediction']=prediction\n",
    "    return df_test"
   ]
  },
  {
   "cell_type": "code",
   "execution_count": 54,
   "metadata": {},
   "outputs": [],
   "source": [
    "sentences = [\n",
    "  \"I have only been on Tekturna for 9 days. The effect was immediate. I am also on a calcium channel blocker (Tiazac) and hydrochlorothiazide. I was put on Tekturna because of palpitations experienced with Diovan (ugly drug in my opinion, same company produces both however). The palpitations were pretty bad on Diovan, 24 hour monitor by EKG etc. After a few days of substituting Tekturna for Diovan, there are no more palpitations.\",\n",
    "    \"This is the third med I&#039;ve tried for anxiety and mild depression. Been on it for a week and I hate it so much. I am so dizzy, I have major diarrhea and feel worse than I started. Contacting my doc in the am and changing asap.\",\n",
    "    \"I just got diagnosed with type 2. My doctor prescribed Invokana and metformin from the beginning. My sugars went down to normal by the second week. I am losing so much weight. No side effects yet. Miracle medicine for me\",\n",
    "    \n",
    "  ]"
   ]
  },
  {
   "cell_type": "code",
   "execution_count": 61,
   "metadata": {},
   "outputs": [
    {
     "name": "stdout",
     "output_type": "stream",
     "text": [
      "text: I have only been on Tekturna for 9 days. The effect was immediate. I am also on a calcium channel blocker (Tiazac) and hydrochlorothiazide. I was put on Tekturna because of palpitations experienced with Diovan (ugly drug in my opinion, same company produces both however). The palpitations were pretty bad on Diovan, 24 hour monitor by EKG etc. After a few days of substituting Tekturna for Diovan, there are no more palpitations. \n",
      "Condition: High Blood Pressure\n",
      "Top 3 Suggested Drugs:\n",
      "Losartan\n",
      "Aldactone\n",
      "Spironolactone\n",
      "\n",
      "text: This is the third med I&#039;ve tried for anxiety and mild depression. Been on it for a week and I hate it so much. I am so dizzy, I have major diarrhea and feel worse than I started. Contacting my doc in the am and changing asap. \n",
      "Condition: Depression\n",
      "Top 3 Suggested Drugs:\n",
      "Sertraline\n",
      "Zoloft\n",
      "Viibryd\n",
      "\n",
      "text: I just got diagnosed with type 2. My doctor prescribed Invokana and metformin from the beginning. My sugars went down to normal by the second week. I am losing so much weight. No side effects yet. Miracle medicine for me \n",
      "Condition: Diabetes, Type 2\n",
      "Top 3 Suggested Drugs:\n",
      "Victoza\n",
      "Canagliflozin\n",
      "Invokana\n",
      "\n"
     ]
    }
   ],
   "source": [
    "tfidf_trigram = tfidf_vectorizer3.transform(sentences)\n",
    "\n",
    "\n",
    "predictions = pass_tf.predict(tfidf_trigram)\n",
    "\n",
    "for text, label in zip(sentences, predictions):\n",
    "    if label==\"High Blood Pressure\":\n",
    "        target=\"High Blood Pressure\"\n",
    "        top_drugs = top_drugs_extractor(label)\n",
    "        print(\"text:\", text, \"\\nCondition:\", target)\n",
    "        print(\"Top 3 Suggested Drugs:\")\n",
    "        print(top_drugs[0])\n",
    "        print(top_drugs[1])\n",
    "        print(top_drugs[2])\n",
    "        print()\n",
    "    elif label==\"Depression\":\n",
    "        target=\"Depression\"\n",
    "        top_drugs = top_drugs_extractor(label)\n",
    "        print(\"text:\", text, \"\\nCondition:\", target)\n",
    "        print(\"Top 3 Suggested Drugs:\")\n",
    "        print(top_drugs[0])\n",
    "        print(top_drugs[1])\n",
    "        print(top_drugs[2])\n",
    "        print()\n",
    "    elif label==\"Diabetes, Type 2\":\n",
    "        target=\"Diabetes, Type 2\"\n",
    "        top_drugs = top_drugs_extractor(label)\n",
    "        print(\"text:\", text, \"\\nCondition:\", target)\n",
    "        print(\"Top 3 Suggested Drugs:\")\n",
    "        print(top_drugs[0])\n",
    "        print(top_drugs[1])\n",
    "        print(top_drugs[2])\n",
    "        print()\n",
    "    else:\n",
    "        target=\"Birth Control\"\n",
    "        print(\"text:\", text, \"\\Condition:\", target)\n",
    "        top_drugs = top_drugs_extractor(label)\n",
    "        print(\"text:\", text, \"\\nCondition:\", target)\n",
    "        print(\"Top 3 Suggested Drugs:\")\n",
    "        print(top_drugs[0])\n",
    "        print(top_drugs[1])\n",
    "        print(top_drugs[2])\n",
    "        print()"
   ]
  },
  {
   "cell_type": "code",
   "execution_count": 62,
   "metadata": {},
   "outputs": [
    {
     "data": {
      "text/html": [
       "<div>\n",
       "<style scoped>\n",
       "    .dataframe tbody tr th:only-of-type {\n",
       "        vertical-align: middle;\n",
       "    }\n",
       "\n",
       "    .dataframe tbody tr th {\n",
       "        vertical-align: top;\n",
       "    }\n",
       "\n",
       "    .dataframe thead th {\n",
       "        text-align: right;\n",
       "    }\n",
       "</style>\n",
       "<table border=\"1\" class=\"dataframe\">\n",
       "  <thead>\n",
       "    <tr style=\"text-align: right;\">\n",
       "      <th></th>\n",
       "      <th>test_sent</th>\n",
       "      <th>prediction</th>\n",
       "    </tr>\n",
       "  </thead>\n",
       "  <tbody>\n",
       "    <tr>\n",
       "      <th>0</th>\n",
       "      <td>tekturna day effect immediate also calcium channel blocker tiazac hydrochlorothiazide put tekturna palpitation experienced diovan ugly drug opinion company produce however palpitation pretty bad diovan hour monitor ekg etc day substituting tekturna diovan palpitation</td>\n",
       "      <td>High Blood Pressure</td>\n",
       "    </tr>\n",
       "    <tr>\n",
       "      <th>1</th>\n",
       "      <td>third med tried anxiety mild depression week hate much dizzy major diarrhea feel worse started contacting doc changing asap</td>\n",
       "      <td>Depression</td>\n",
       "    </tr>\n",
       "    <tr>\n",
       "      <th>2</th>\n",
       "      <td>got diagnosed type doctor prescribed invokana metformin beginning sugar went normal second week losing much weight side effect yet miracle medicine</td>\n",
       "      <td>Diabetes, Type 2</td>\n",
       "    </tr>\n",
       "  </tbody>\n",
       "</table>\n",
       "</div>"
      ],
      "text/plain": [
       "                                                                                                                                                                                                                                                                     test_sent  \\\n",
       "0  tekturna day effect immediate also calcium channel blocker tiazac hydrochlorothiazide put tekturna palpitation experienced diovan ugly drug opinion company produce however palpitation pretty bad diovan hour monitor ekg etc day substituting tekturna diovan palpitation   \n",
       "1  third med tried anxiety mild depression week hate much dizzy major diarrhea feel worse started contacting doc changing asap                                                                                                                                                   \n",
       "2  got diagnosed type doctor prescribed invokana metformin beginning sugar went normal second week losing much weight side effect yet miracle medicine                                                                                                                           \n",
       "\n",
       "            prediction  \n",
       "0  High Blood Pressure  \n",
       "1  Depression           \n",
       "2  Diabetes, Type 2     "
      ]
     },
     "execution_count": 62,
     "metadata": {},
     "output_type": "execute_result"
    }
   ],
   "source": [
    "df_testsent = predict_text(sentences)\n",
    "df_testsent"
   ]
  },
  {
   "cell_type": "code",
   "execution_count": 63,
   "metadata": {},
   "outputs": [
    {
     "data": {
      "text/plain": [
       "['passmodel.pkl']"
      ]
     },
     "execution_count": 63,
     "metadata": {},
     "output_type": "execute_result"
    }
   ],
   "source": [
    "import joblib\n",
    "joblib.dump(tfidf_vectorizer3, 'tfidfvectorizer.pkl')\n",
    "joblib.dump(pass_tf, 'passmodel.pkl')"
   ]
  },
  {
   "cell_type": "code",
   "execution_count": 64,
   "metadata": {},
   "outputs": [
    {
     "data": {
      "text/plain": [
       "'High Blood Pressure'"
      ]
     },
     "execution_count": 64,
     "metadata": {},
     "output_type": "execute_result"
    }
   ],
   "source": [
    "vectorizer = joblib.load('tfidfvectorizer.pkl')\n",
    "model = joblib.load('passmodel.pkl')\n",
    "\n",
    "test = model.predict(vectorizer.transform([\"I have only been on Tekturna for 9 days. The effect was immediate. I am also on a calcium channel blocker (Tiazac) and hydrochlorothiazide. I was put on Tekturna because of palpitations experienced with Diovan (ugly drug in my opinion, same company produces both however). The palpitations were pretty bad on Diovan, 24 hour monitor by EKG etc. After a few days of substituting Tekturna for Diovan, there are no more palpitations\"]))\n",
    "test[0]"
   ]
  },
  {
   "cell_type": "code",
   "execution_count": null,
   "metadata": {},
   "outputs": [],
   "source": []
  }
 ],
 "metadata": {
  "kernelspec": {
   "display_name": "Python 3 (ipykernel)",
   "language": "python",
   "name": "python3"
  },
  "language_info": {
   "codemirror_mode": {
    "name": "ipython",
    "version": 3
   },
   "file_extension": ".py",
   "mimetype": "text/x-python",
   "name": "python",
   "nbconvert_exporter": "python",
   "pygments_lexer": "ipython3",
   "version": "3.9.12"
  }
 },
 "nbformat": 4,
 "nbformat_minor": 4
}
